{
  "cells": [
    {
      "cell_type": "markdown",
      "metadata": {
        "id": "view-in-github",
        "colab_type": "text"
      },
      "source": [
        "<a href=\"https://colab.research.google.com/github/daniil-lyakhov/cv_text_classification/blob/main/translation_transformer.ipynb\" target=\"_parent\"><img src=\"https://colab.research.google.com/assets/colab-badge.svg\" alt=\"Open In Colab\"/></a>"
      ]
    },
    {
      "cell_type": "markdown",
      "source": [
        "# Setup"
      ],
      "metadata": {
        "id": "CLaeRh89Jt5w"
      }
    },
    {
      "cell_type": "code",
      "source": [
        "!pip install -U spacy -q\n",
        "!python -m spacy download en_core_web_sm\n",
        "!python -m spacy download ru_core_news_sm"
      ],
      "metadata": {
        "colab": {
          "base_uri": "https://localhost:8080/"
        },
        "id": "2brPTmsLk-35",
        "outputId": "86b70602-c18b-450c-d61e-43a3c4b48d16"
      },
      "execution_count": null,
      "outputs": [
        {
          "output_type": "stream",
          "name": "stdout",
          "text": [
            "\u001b[K     |████████████████████████████████| 6.0 MB 4.6 MB/s \n",
            "\u001b[K     |████████████████████████████████| 10.1 MB 24.3 MB/s \n",
            "\u001b[K     |████████████████████████████████| 181 kB 16.8 MB/s \n",
            "\u001b[K     |████████████████████████████████| 628 kB 33.0 MB/s \n",
            "\u001b[K     |████████████████████████████████| 42 kB 578 kB/s \n",
            "\u001b[K     |████████████████████████████████| 451 kB 32.5 MB/s \n",
            "\u001b[?25hCollecting en-core-web-sm==3.2.0\n",
            "  Downloading https://github.com/explosion/spacy-models/releases/download/en_core_web_sm-3.2.0/en_core_web_sm-3.2.0-py3-none-any.whl (13.9 MB)\n",
            "\u001b[K     |████████████████████████████████| 13.9 MB 5.1 MB/s \n",
            "\u001b[?25hRequirement already satisfied: spacy<3.3.0,>=3.2.0 in /usr/local/lib/python3.7/dist-packages (from en-core-web-sm==3.2.0) (3.2.1)\n",
            "Requirement already satisfied: preshed<3.1.0,>=3.0.2 in /usr/local/lib/python3.7/dist-packages (from spacy<3.3.0,>=3.2.0->en-core-web-sm==3.2.0) (3.0.6)\n",
            "Requirement already satisfied: srsly<3.0.0,>=2.4.1 in /usr/local/lib/python3.7/dist-packages (from spacy<3.3.0,>=3.2.0->en-core-web-sm==3.2.0) (2.4.2)\n",
            "Requirement already satisfied: pydantic!=1.8,!=1.8.1,<1.9.0,>=1.7.4 in /usr/local/lib/python3.7/dist-packages (from spacy<3.3.0,>=3.2.0->en-core-web-sm==3.2.0) (1.8.2)\n",
            "Requirement already satisfied: setuptools in /usr/local/lib/python3.7/dist-packages (from spacy<3.3.0,>=3.2.0->en-core-web-sm==3.2.0) (57.4.0)\n",
            "Requirement already satisfied: packaging>=20.0 in /usr/local/lib/python3.7/dist-packages (from spacy<3.3.0,>=3.2.0->en-core-web-sm==3.2.0) (21.3)\n",
            "Requirement already satisfied: pathy>=0.3.5 in /usr/local/lib/python3.7/dist-packages (from spacy<3.3.0,>=3.2.0->en-core-web-sm==3.2.0) (0.6.1)\n",
            "Requirement already satisfied: jinja2 in /usr/local/lib/python3.7/dist-packages (from spacy<3.3.0,>=3.2.0->en-core-web-sm==3.2.0) (2.11.3)\n",
            "Requirement already satisfied: requests<3.0.0,>=2.13.0 in /usr/local/lib/python3.7/dist-packages (from spacy<3.3.0,>=3.2.0->en-core-web-sm==3.2.0) (2.23.0)\n",
            "Requirement already satisfied: thinc<8.1.0,>=8.0.12 in /usr/local/lib/python3.7/dist-packages (from spacy<3.3.0,>=3.2.0->en-core-web-sm==3.2.0) (8.0.13)\n",
            "Requirement already satisfied: tqdm<5.0.0,>=4.38.0 in /usr/local/lib/python3.7/dist-packages (from spacy<3.3.0,>=3.2.0->en-core-web-sm==3.2.0) (4.62.3)\n",
            "Requirement already satisfied: wasabi<1.1.0,>=0.8.1 in /usr/local/lib/python3.7/dist-packages (from spacy<3.3.0,>=3.2.0->en-core-web-sm==3.2.0) (0.8.2)\n",
            "Requirement already satisfied: cymem<2.1.0,>=2.0.2 in /usr/local/lib/python3.7/dist-packages (from spacy<3.3.0,>=3.2.0->en-core-web-sm==3.2.0) (2.0.6)\n",
            "Requirement already satisfied: langcodes<4.0.0,>=3.2.0 in /usr/local/lib/python3.7/dist-packages (from spacy<3.3.0,>=3.2.0->en-core-web-sm==3.2.0) (3.3.0)\n",
            "Requirement already satisfied: spacy-legacy<3.1.0,>=3.0.8 in /usr/local/lib/python3.7/dist-packages (from spacy<3.3.0,>=3.2.0->en-core-web-sm==3.2.0) (3.0.8)\n",
            "Requirement already satisfied: murmurhash<1.1.0,>=0.28.0 in /usr/local/lib/python3.7/dist-packages (from spacy<3.3.0,>=3.2.0->en-core-web-sm==3.2.0) (1.0.6)\n",
            "Requirement already satisfied: catalogue<2.1.0,>=2.0.6 in /usr/local/lib/python3.7/dist-packages (from spacy<3.3.0,>=3.2.0->en-core-web-sm==3.2.0) (2.0.6)\n",
            "Requirement already satisfied: blis<0.8.0,>=0.4.0 in /usr/local/lib/python3.7/dist-packages (from spacy<3.3.0,>=3.2.0->en-core-web-sm==3.2.0) (0.4.1)\n",
            "Requirement already satisfied: spacy-loggers<2.0.0,>=1.0.0 in /usr/local/lib/python3.7/dist-packages (from spacy<3.3.0,>=3.2.0->en-core-web-sm==3.2.0) (1.0.1)\n",
            "Requirement already satisfied: typer<0.5.0,>=0.3.0 in /usr/local/lib/python3.7/dist-packages (from spacy<3.3.0,>=3.2.0->en-core-web-sm==3.2.0) (0.4.0)\n",
            "Requirement already satisfied: typing-extensions<4.0.0.0,>=3.7.4 in /usr/local/lib/python3.7/dist-packages (from spacy<3.3.0,>=3.2.0->en-core-web-sm==3.2.0) (3.10.0.2)\n",
            "Requirement already satisfied: numpy>=1.15.0 in /usr/local/lib/python3.7/dist-packages (from spacy<3.3.0,>=3.2.0->en-core-web-sm==3.2.0) (1.19.5)\n",
            "Requirement already satisfied: zipp>=0.5 in /usr/local/lib/python3.7/dist-packages (from catalogue<2.1.0,>=2.0.6->spacy<3.3.0,>=3.2.0->en-core-web-sm==3.2.0) (3.6.0)\n",
            "Requirement already satisfied: pyparsing!=3.0.5,>=2.0.2 in /usr/local/lib/python3.7/dist-packages (from packaging>=20.0->spacy<3.3.0,>=3.2.0->en-core-web-sm==3.2.0) (3.0.6)\n",
            "Requirement already satisfied: smart-open<6.0.0,>=5.0.0 in /usr/local/lib/python3.7/dist-packages (from pathy>=0.3.5->spacy<3.3.0,>=3.2.0->en-core-web-sm==3.2.0) (5.2.1)\n",
            "Requirement already satisfied: urllib3!=1.25.0,!=1.25.1,<1.26,>=1.21.1 in /usr/local/lib/python3.7/dist-packages (from requests<3.0.0,>=2.13.0->spacy<3.3.0,>=3.2.0->en-core-web-sm==3.2.0) (1.24.3)\n",
            "Requirement already satisfied: idna<3,>=2.5 in /usr/local/lib/python3.7/dist-packages (from requests<3.0.0,>=2.13.0->spacy<3.3.0,>=3.2.0->en-core-web-sm==3.2.0) (2.10)\n",
            "Requirement already satisfied: chardet<4,>=3.0.2 in /usr/local/lib/python3.7/dist-packages (from requests<3.0.0,>=2.13.0->spacy<3.3.0,>=3.2.0->en-core-web-sm==3.2.0) (3.0.4)\n",
            "Requirement already satisfied: certifi>=2017.4.17 in /usr/local/lib/python3.7/dist-packages (from requests<3.0.0,>=2.13.0->spacy<3.3.0,>=3.2.0->en-core-web-sm==3.2.0) (2021.10.8)\n",
            "Requirement already satisfied: click<9.0.0,>=7.1.1 in /usr/local/lib/python3.7/dist-packages (from typer<0.5.0,>=0.3.0->spacy<3.3.0,>=3.2.0->en-core-web-sm==3.2.0) (7.1.2)\n",
            "Requirement already satisfied: MarkupSafe>=0.23 in /usr/local/lib/python3.7/dist-packages (from jinja2->spacy<3.3.0,>=3.2.0->en-core-web-sm==3.2.0) (2.0.1)\n",
            "Installing collected packages: en-core-web-sm\n",
            "  Attempting uninstall: en-core-web-sm\n",
            "    Found existing installation: en-core-web-sm 2.2.5\n",
            "    Uninstalling en-core-web-sm-2.2.5:\n",
            "      Successfully uninstalled en-core-web-sm-2.2.5\n",
            "Successfully installed en-core-web-sm-3.2.0\n",
            "\u001b[38;5;2m✔ Download and installation successful\u001b[0m\n",
            "You can now load the package via spacy.load('en_core_web_sm')\n",
            "Collecting ru-core-news-sm==3.2.0\n",
            "  Downloading https://github.com/explosion/spacy-models/releases/download/ru_core_news_sm-3.2.0/ru_core_news_sm-3.2.0-py3-none-any.whl (16.4 MB)\n",
            "\u001b[K     |████████████████████████████████| 16.4 MB 51 kB/s \n",
            "\u001b[?25hCollecting pymorphy2>=0.9\n",
            "  Downloading pymorphy2-0.9.1-py3-none-any.whl (55 kB)\n",
            "\u001b[K     |████████████████████████████████| 55 kB 2.0 MB/s \n",
            "\u001b[?25hRequirement already satisfied: spacy<3.3.0,>=3.2.0 in /usr/local/lib/python3.7/dist-packages (from ru-core-news-sm==3.2.0) (3.2.1)\n",
            "Requirement already satisfied: docopt>=0.6 in /usr/local/lib/python3.7/dist-packages (from pymorphy2>=0.9->ru-core-news-sm==3.2.0) (0.6.2)\n",
            "Collecting pymorphy2-dicts-ru<3.0,>=2.4\n",
            "  Downloading pymorphy2_dicts_ru-2.4.417127.4579844-py2.py3-none-any.whl (8.2 MB)\n",
            "\u001b[K     |████████████████████████████████| 8.2 MB 9.4 MB/s \n",
            "\u001b[?25hCollecting dawg-python>=0.7.1\n",
            "  Downloading DAWG_Python-0.7.2-py2.py3-none-any.whl (11 kB)\n",
            "Requirement already satisfied: setuptools in /usr/local/lib/python3.7/dist-packages (from spacy<3.3.0,>=3.2.0->ru-core-news-sm==3.2.0) (57.4.0)\n",
            "Requirement already satisfied: pathy>=0.3.5 in /usr/local/lib/python3.7/dist-packages (from spacy<3.3.0,>=3.2.0->ru-core-news-sm==3.2.0) (0.6.1)\n",
            "Requirement already satisfied: thinc<8.1.0,>=8.0.12 in /usr/local/lib/python3.7/dist-packages (from spacy<3.3.0,>=3.2.0->ru-core-news-sm==3.2.0) (8.0.13)\n",
            "Requirement already satisfied: numpy>=1.15.0 in /usr/local/lib/python3.7/dist-packages (from spacy<3.3.0,>=3.2.0->ru-core-news-sm==3.2.0) (1.19.5)\n",
            "Requirement already satisfied: packaging>=20.0 in /usr/local/lib/python3.7/dist-packages (from spacy<3.3.0,>=3.2.0->ru-core-news-sm==3.2.0) (21.3)\n",
            "Requirement already satisfied: preshed<3.1.0,>=3.0.2 in /usr/local/lib/python3.7/dist-packages (from spacy<3.3.0,>=3.2.0->ru-core-news-sm==3.2.0) (3.0.6)\n",
            "Requirement already satisfied: murmurhash<1.1.0,>=0.28.0 in /usr/local/lib/python3.7/dist-packages (from spacy<3.3.0,>=3.2.0->ru-core-news-sm==3.2.0) (1.0.6)\n",
            "Requirement already satisfied: langcodes<4.0.0,>=3.2.0 in /usr/local/lib/python3.7/dist-packages (from spacy<3.3.0,>=3.2.0->ru-core-news-sm==3.2.0) (3.3.0)\n",
            "Requirement already satisfied: tqdm<5.0.0,>=4.38.0 in /usr/local/lib/python3.7/dist-packages (from spacy<3.3.0,>=3.2.0->ru-core-news-sm==3.2.0) (4.62.3)\n",
            "Requirement already satisfied: spacy-loggers<2.0.0,>=1.0.0 in /usr/local/lib/python3.7/dist-packages (from spacy<3.3.0,>=3.2.0->ru-core-news-sm==3.2.0) (1.0.1)\n",
            "Requirement already satisfied: jinja2 in /usr/local/lib/python3.7/dist-packages (from spacy<3.3.0,>=3.2.0->ru-core-news-sm==3.2.0) (2.11.3)\n",
            "Requirement already satisfied: pydantic!=1.8,!=1.8.1,<1.9.0,>=1.7.4 in /usr/local/lib/python3.7/dist-packages (from spacy<3.3.0,>=3.2.0->ru-core-news-sm==3.2.0) (1.8.2)\n",
            "Requirement already satisfied: wasabi<1.1.0,>=0.8.1 in /usr/local/lib/python3.7/dist-packages (from spacy<3.3.0,>=3.2.0->ru-core-news-sm==3.2.0) (0.8.2)\n",
            "Requirement already satisfied: srsly<3.0.0,>=2.4.1 in /usr/local/lib/python3.7/dist-packages (from spacy<3.3.0,>=3.2.0->ru-core-news-sm==3.2.0) (2.4.2)\n",
            "Requirement already satisfied: requests<3.0.0,>=2.13.0 in /usr/local/lib/python3.7/dist-packages (from spacy<3.3.0,>=3.2.0->ru-core-news-sm==3.2.0) (2.23.0)\n",
            "Requirement already satisfied: catalogue<2.1.0,>=2.0.6 in /usr/local/lib/python3.7/dist-packages (from spacy<3.3.0,>=3.2.0->ru-core-news-sm==3.2.0) (2.0.6)\n",
            "Requirement already satisfied: typer<0.5.0,>=0.3.0 in /usr/local/lib/python3.7/dist-packages (from spacy<3.3.0,>=3.2.0->ru-core-news-sm==3.2.0) (0.4.0)\n",
            "Requirement already satisfied: typing-extensions<4.0.0.0,>=3.7.4 in /usr/local/lib/python3.7/dist-packages (from spacy<3.3.0,>=3.2.0->ru-core-news-sm==3.2.0) (3.10.0.2)\n",
            "Requirement already satisfied: spacy-legacy<3.1.0,>=3.0.8 in /usr/local/lib/python3.7/dist-packages (from spacy<3.3.0,>=3.2.0->ru-core-news-sm==3.2.0) (3.0.8)\n",
            "Requirement already satisfied: blis<0.8.0,>=0.4.0 in /usr/local/lib/python3.7/dist-packages (from spacy<3.3.0,>=3.2.0->ru-core-news-sm==3.2.0) (0.4.1)\n",
            "Requirement already satisfied: cymem<2.1.0,>=2.0.2 in /usr/local/lib/python3.7/dist-packages (from spacy<3.3.0,>=3.2.0->ru-core-news-sm==3.2.0) (2.0.6)\n",
            "Requirement already satisfied: zipp>=0.5 in /usr/local/lib/python3.7/dist-packages (from catalogue<2.1.0,>=2.0.6->spacy<3.3.0,>=3.2.0->ru-core-news-sm==3.2.0) (3.6.0)\n",
            "Requirement already satisfied: pyparsing!=3.0.5,>=2.0.2 in /usr/local/lib/python3.7/dist-packages (from packaging>=20.0->spacy<3.3.0,>=3.2.0->ru-core-news-sm==3.2.0) (3.0.6)\n",
            "Requirement already satisfied: smart-open<6.0.0,>=5.0.0 in /usr/local/lib/python3.7/dist-packages (from pathy>=0.3.5->spacy<3.3.0,>=3.2.0->ru-core-news-sm==3.2.0) (5.2.1)\n",
            "Requirement already satisfied: chardet<4,>=3.0.2 in /usr/local/lib/python3.7/dist-packages (from requests<3.0.0,>=2.13.0->spacy<3.3.0,>=3.2.0->ru-core-news-sm==3.2.0) (3.0.4)\n",
            "Requirement already satisfied: certifi>=2017.4.17 in /usr/local/lib/python3.7/dist-packages (from requests<3.0.0,>=2.13.0->spacy<3.3.0,>=3.2.0->ru-core-news-sm==3.2.0) (2021.10.8)\n",
            "Requirement already satisfied: urllib3!=1.25.0,!=1.25.1,<1.26,>=1.21.1 in /usr/local/lib/python3.7/dist-packages (from requests<3.0.0,>=2.13.0->spacy<3.3.0,>=3.2.0->ru-core-news-sm==3.2.0) (1.24.3)\n",
            "Requirement already satisfied: idna<3,>=2.5 in /usr/local/lib/python3.7/dist-packages (from requests<3.0.0,>=2.13.0->spacy<3.3.0,>=3.2.0->ru-core-news-sm==3.2.0) (2.10)\n",
            "Requirement already satisfied: click<9.0.0,>=7.1.1 in /usr/local/lib/python3.7/dist-packages (from typer<0.5.0,>=0.3.0->spacy<3.3.0,>=3.2.0->ru-core-news-sm==3.2.0) (7.1.2)\n",
            "Requirement already satisfied: MarkupSafe>=0.23 in /usr/local/lib/python3.7/dist-packages (from jinja2->spacy<3.3.0,>=3.2.0->ru-core-news-sm==3.2.0) (2.0.1)\n",
            "Installing collected packages: pymorphy2-dicts-ru, dawg-python, pymorphy2, ru-core-news-sm\n",
            "Successfully installed dawg-python-0.7.2 pymorphy2-0.9.1 pymorphy2-dicts-ru-2.4.417127.4579844 ru-core-news-sm-3.2.0\n",
            "\u001b[38;5;2m✔ Download and installation successful\u001b[0m\n",
            "You can now load the package via spacy.load('ru_core_news_sm')\n"
          ]
        }
      ]
    },
    {
      "cell_type": "code",
      "source": [
        "import numpy as np\n",
        "import pandas as pd\n",
        "\n",
        "%matplotlib inline"
      ],
      "metadata": {
        "id": "Qdg6OdTte_O1"
      },
      "execution_count": null,
      "outputs": []
    },
    {
      "cell_type": "markdown",
      "source": [
        "# Full dataset loading"
      ],
      "metadata": {
        "id": "3Em0Fn6bJgrY"
      }
    },
    {
      "cell_type": "markdown",
      "source": [
        "ParaCrawl Rus-Eng dataset was choosen for experiments, link:\n",
        "https://lindat.mff.cuni.cz/repository/xmlui/handle/11372/LRT-2610"
      ],
      "metadata": {
        "id": "kGQEzs-fJ9CO"
      }
    },
    {
      "cell_type": "code",
      "source": [
        "!wget \"https://lindat.mff.cuni.cz/repository/xmlui/bitstream/handle/11372/LRT-2610/paracrawl-release1.en-ru.zipporah0-dedup-clean.tgz?sequence=9&isAllowed=y\" -O out.tgz  "
      ],
      "metadata": {
        "colab": {
          "base_uri": "https://localhost:8080/"
        },
        "id": "KzX8x3kgfboV",
        "outputId": "0e35c07e-381c-490b-f567-6d5032ee89f9"
      },
      "execution_count": null,
      "outputs": [
        {
          "output_type": "stream",
          "name": "stdout",
          "text": [
            "--2021-12-14 19:35:23--  https://lindat.mff.cuni.cz/repository/xmlui/bitstream/handle/11372/LRT-2610/paracrawl-release1.en-ru.zipporah0-dedup-clean.tgz?sequence=9&isAllowed=y\n",
            "Resolving lindat.mff.cuni.cz (lindat.mff.cuni.cz)... 195.113.20.140\n",
            "Connecting to lindat.mff.cuni.cz (lindat.mff.cuni.cz)|195.113.20.140|:443... connected.\n",
            "HTTP request sent, awaiting response... 200 OK\n",
            "Length: 667981874 (637M) [application/x-gzip]\n",
            "Saving to: ‘out.tgz’\n",
            "\n",
            "out.tgz             100%[===================>] 637.04M  24.6MB/s    in 27s     \n",
            "\n",
            "2021-12-14 19:35:51 (23.8 MB/s) - ‘out.tgz’ saved [667981874/667981874]\n",
            "\n"
          ]
        }
      ]
    },
    {
      "cell_type": "code",
      "source": [
        "!tar -xvf out.tgz"
      ],
      "metadata": {
        "colab": {
          "base_uri": "https://localhost:8080/"
        },
        "id": "_VqZWF2XnqtL",
        "outputId": "e101bf3f-a8a0-4b5f-b2f7-0200b49cd2ee"
      },
      "execution_count": null,
      "outputs": [
        {
          "output_type": "stream",
          "name": "stdout",
          "text": [
            "paracrawl-release1.en-ru.zipporah0-dedup-clean.en\n",
            "paracrawl-release1.en-ru.zipporah0-dedup-clean.ru\n"
          ]
        }
      ]
    },
    {
      "cell_type": "code",
      "source": [
        "lines_eng = open('paracrawl-release1.en-ru.zipporah0-dedup-clean.en', 'r').readlines()\n",
        "lines_rus = open('paracrawl-release1.en-ru.zipporah0-dedup-clean.ru', 'r').readlines()"
      ],
      "metadata": {
        "id": "nA3n2MWYgK7r"
      },
      "execution_count": null,
      "outputs": []
    },
    {
      "cell_type": "code",
      "source": [
        "lines_rus[:10]"
      ],
      "metadata": {
        "colab": {
          "base_uri": "https://localhost:8080/"
        },
        "id": "JRAe_zBGgUo5",
        "outputId": "a7a6dd4e-2e14-4ac6-c6be-87593c218d5e"
      },
      "execution_count": null,
      "outputs": [
        {
          "output_type": "execute_result",
          "data": {
            "text/plain": [
              "['Email: info@e-e-e.cz\\n',\n",
              " 'Фирма зарегистрирована в Городском суде в г. Праге, раздел Б, вкладыш 14857.\\n',\n",
              " 'Новости:\\n',\n",
              " '22.02.09\\n',\n",
              " 'С января месяца 2009 г. открыты новые офисные помещения на улице V Kolkovně 3 (В Колковне, д. 3), Прага-1. Данные помещения находятся поблизости всех банков-партнеров.\\n',\n",
              " 'O НАС Новости Референции Контакт\\n',\n",
              " 'Новости\\n',\n",
              " '02 / 2009\\n',\n",
              " 'Открыты новые офисные помещения (22. 02.)\\n',\n",
              " 'Компания АО «East Export Engineering» («EEE») исходит из успехов чешских фирм и банков в области экспортного финансирования; она поставила перед собой цель далее развивать поддержку финансирования чешских и зарубежных проектов с участием чешских фирм в качестве подрядчиков/поставщиков.\\n']"
            ]
          },
          "metadata": {},
          "execution_count": 6
        }
      ]
    },
    {
      "cell_type": "code",
      "source": [
        "lines_eng[:10]"
      ],
      "metadata": {
        "colab": {
          "base_uri": "https://localhost:8080/"
        },
        "id": "mA7ctlJWgjyv",
        "outputId": "7cdc6be4-32a4-48ca-93d3-6bc2829efa9b"
      },
      "execution_count": null,
      "outputs": [
        {
          "output_type": "execute_result",
          "data": {
            "text/plain": [
              "['E-mail: info@e-e-e.cz\\n',\n",
              " 'The company has been registered with the Municipal Court in Prague, in Section B, File 14857.\\n',\n",
              " 'News:\\n',\n",
              " '22.02.09\\n',\n",
              " 'Since January 2009 new office premises in the street V Kolkovně 3, Prague 1, have been opened. These premises are situated in a close vicinity of all our partner banks.\\n',\n",
              " 'About us News References Contacts\\n',\n",
              " 'News\\n',\n",
              " '02 / 2009\\n',\n",
              " 'New projects (22. 02.) New office premises have been opened (19. 02.)\\n',\n",
              " 'East Export Engineering a.s. (EEE) has reassumed the previous success of Czech companies and banks in the field of export financing and commenced its activity with the aim to further develop the support of financing of home and foreign schemes involving supplier participation of Czech companies.\\n']"
            ]
          },
          "metadata": {},
          "execution_count": 7
        }
      ]
    },
    {
      "cell_type": "code",
      "source": [
        "len(lines_eng)"
      ],
      "metadata": {
        "colab": {
          "base_uri": "https://localhost:8080/"
        },
        "id": "JwrNFAO7hXSC",
        "outputId": "bf500a7e-81d1-486f-9cb9-2c3ac8d821b7"
      },
      "execution_count": null,
      "outputs": [
        {
          "output_type": "execute_result",
          "data": {
            "text/plain": [
              "12061155"
            ]
          },
          "metadata": {},
          "execution_count": 8
        }
      ]
    },
    {
      "cell_type": "markdown",
      "source": [
        "# EDA"
      ],
      "metadata": {
        "id": "mx2bQf19kRki"
      }
    },
    {
      "cell_type": "markdown",
      "source": [
        "Check elements length"
      ],
      "metadata": {
        "id": "I0ytGWtKeL1V"
      }
    },
    {
      "cell_type": "code",
      "source": [
        "def get_statistics(lines_rus, lines_eng):\n",
        "    lenghts = {}\n",
        "    for data, key in [(lines_rus, 'rus'), (lines_eng, 'eng')]:\n",
        "        lenghts[key] = np.array([len(sent) for sent in data], dtype=int)\n",
        "\n",
        "    def collect_statistics(arr):\n",
        "        res = {}\n",
        "        res['mean'] = arr.mean()\n",
        "        res['argmin'] = np.argmin(arr)\n",
        "        res['argmax'] = np.argmax(arr)\n",
        "        res['min'] = arr.min()\n",
        "        res['max'] = arr.max()\n",
        "        return res\n",
        "\n",
        "    stat_rus = collect_statistics(lenghts['rus'])\n",
        "    stat_eng = collect_statistics(lenghts['eng'])\n",
        "    ratious = lenghts['rus'] / lenghts['eng']\n",
        "    stat_ratious = collect_statistics(ratious)\n",
        "\n",
        "    def get_pair(idx):\n",
        "        return lines_eng[idx], lines_rus[idx]\n",
        "\n",
        "    smallest = get_pair(stat_eng['argmin'])\n",
        "    longest = get_pair(stat_eng['argmax'])\n",
        "    smallest_ratio = get_pair(stat_ratious['argmin'])\n",
        "    biggest_ratio = get_pair(stat_ratious['argmax'])\n",
        "\n",
        "    len_stat_srt = f'Lenght statistics:\\nRus:{stat_rus}\\nEng{stat_eng}\\nRus / Eng {stat_ratious}'\n",
        "    extreems_ex_str = f'Pairs\\nSmallest: {smallest}\\n'\\\n",
        "                      f'Longest: {longest}\\n'\\\n",
        "                      f'Smallest ratio: {smallest_ratio}\\n'\\\n",
        "                      f'Biggest ratio: {biggest_ratio}'\n",
        "                    \n",
        "    counts = f'Counts of pairs: {len(lines_rus)}'\n",
        "    descr = len_stat_srt + '\\n' + extreems_ex_str + '\\n' + counts\n",
        "    retval = {}\n",
        "    retval['rus'] = stat_rus\n",
        "    retval['eng'] = stat_eng\n",
        "    retval['ratious'] = ratious\n",
        "    retval['len'] = lenghts\n",
        "\n",
        "    return descr, retval\n",
        "\n",
        "stats_init = get_statistics(lines_rus, lines_eng) \n",
        "print(stats_init[0])\n"
      ],
      "metadata": {
        "colab": {
          "base_uri": "https://localhost:8080/"
        },
        "id": "jw_g_48CevQI",
        "outputId": "4442b3bb-f03a-4413-8c32-fd252dadfcfc"
      },
      "execution_count": null,
      "outputs": [
        {
          "output_type": "stream",
          "name": "stdout",
          "text": [
            "Lenght statistics:\n",
            "Rus:{'mean': 79.00969981730606, 'argmin': 677, 'argmax': 9573105, 'min': 2, 'max': 15554}\n",
            "Eng{'mean': 82.27549426236543, 'argmin': 677, 'argmax': 9573105, 'min': 2, 'max': 15554}\n",
            "Rus / Eng {'mean': 1.0397173034121685, 'argmin': 5459424, 'argmax': 7310074, 'min': 0.015503875968992248, 'max': 56.0}\n",
            "Pairs\n",
            "Smallest: ('?\\n', '?\\n')\n",
            "Longest: ('\\'))}},_connectDatepicker:function(b,f){var j=a(b);f.append=a([]);f.trigger=a([]);if(!j.hasClass(this.markerClassName)){this._attachments(j,f);j.addClass(this.markerClassName).keydown(this._doKeyDown).keypress(this._doKeyPress).keyup(this._doKeyUp).bind(\"setData.datepicker\", function(l,o,n){f.settings[o]=n}).bind(\"getData.datepicker\",function(l,o){return this._get(f,o)});this._autoSize(f);a.data(b,\"datepicker\",f);f.settings.disabled&&this._disableDatepicker(b)}},_attachments:function(b,f){var j=this._get(f,\"appendText\"),l=this._get(f,\"isRTL\");f.append&&f.append.remove();if(j){f.append=a(\\' \\'+j+\" \");b[l?\"before\":\"after\"](f.append)}b.unbind(\"focus\",this._showDatepicker);f.trigger&&f.trigger.remove();j=this._get(f,\"showOn\");if(j== \"focus\"j==\"both\")b.focus(this._showDatepicker);if(j==\"button\"j==\"both\"){j=this._get(f,\"buttonText\");var o=this._get(f,\"buttonImage\");f.trigger=a(this._get(f,\"buttonImageOnly\")?a(\"\").addClass(this._triggerClass).attr({src:o,alt:j,title:j}):a(\\'\\').addClass(this._triggerClass).html(o==\"\"?j:a(\"\").attr({src:o,alt:j,title:j})));b[l?\"before\":\"after\"](f.trigger);f.trigger.click(function(){a.datepicker._datepickerShowing&&a.datepicker._lastInput==b[0]?a.datepicker._hideDatepicker(): a.datepicker._showDatepicker(b[0]);return false})}},_autoSize:function(b){if(this._get(b,\"autoSize\")&&!b.inline){var f=new Date(2009,11,20),j=this._get(b,\"dateFormat\");if(j.match(/[DM]/)){var l=function(o){for(var n=0,k=0,m=0;mn){n=o[m].length;k=m}return k};f.setMonth(l(this._get(b,j.match(/MM/)?\"monthNames\":\"monthNamesShort\")));f.setDate(l(this._get(b,j.match(/DD/)?\"dayNames\":\"dayNamesShort\"))+20-f.getDay())}b.input.attr(\"size\",this._formatDate(b,f).length)}},_inlineDatepicker:function(b, f){var j=a(b);if(!j.hasClass(this.markerClassName)){j.addClass(this.markerClassName).append(f.dpDiv).bind(\"setData.datepicker\",function(l,o,n){f.settings[o]=n}).bind(\"getData.datepicker\",function(l,o){return this._get(f,o)});a.data(b,\"datepicker\",f);this._setDate(f,this._getDefaultDate(f),true);this._updateDatepicker(f);this._updateAlternate(f);f.settings.disabled&&this._disableDatepicker(b);f.dpDiv.css(\"display\",\"block\")}},_dialogDatepicker:function(b,f,j,l,o){b=this._dialogInst;if(!b){this.uuid+= 1;this._dialogInput=a(\\'\\');this._dialogInput.keydown(this._doKeyDown);a(\"body\").append(this._dialogInput);b=this._dialogInst=this._newInst(this._dialogInput,false);b.settings={};a.data(this._dialogInput[0],\"datepicker\",b)}h(b.settings,l{});f=f&&f.constructor==Date?this._formatDate(b,f):f;this._dialogInput.val(f);this._pos=o?o.length?o:[o.pageX,o.pageY]:null;if(!this._pos)this._pos=[document.documentElement.clientWidth/ 2-100+(document.documentElement.scrollLeftdocument.body.scrollLeft),document.documentElement.clientHeight/2-150+(document.documentElement.scrollTopdocument.body.scrollTop)];this._dialogInput.css(\"left\",this._pos[0]+20+\"px\").css(\"top\",this._pos[1]+\"px\");b.settings.onSelect=j;this._inDialog=true;this.dpDiv.addClass(this._dialogClass);this._showDatepicker(this._dialogInput[0]);a.blockUI&&a.blockUI(this.dpDiv);a.data(this._dialogInput[0],\"datepicker\",b);return this},_destroyDatepicker:function(b){var f= a(b),j=a.data(b,\"datepicker\");if(f.hasClass(this.markerClassName)){var l=b.nodeName.toLowerCase();a.removeData(b,\"datepicker\");if(l==\"input\"){j.append.remove();j.trigger.remove();f.removeClass(this.markerClassName).unbind(\"focus\",this._showDatepicker).unbind(\"keydown\",this._doKeyDown).unbind(\"keypress\",this._doKeyPress).unbind(\"keyup\",this._doKeyUp)}else if(l==\"div\"l==\"span\")f.removeClass(this.markerClassName).empty()}},_enableDatepicker:function(b){var f=a(b),j=a.data(b,\"datepicker\");if(f.hasClass(this.markerClassName)){var l= b.nodeName.toLowerCase();if(l==\"input\"){b.disabled=false;j.trigger.filter(\"button\").each(function(){this.disabled=false}).end().filter(\"img\").css({opacity:\"1.0\",cursor:\"\"})}else if(l==\"div\"l==\"span\"){f=f.children(\".\"+this._inlineClass);f.children().removeClass(\"ui-state-disabled\");f.find(\"select.ui-datepicker-month, select.ui-datepicker-year\").removeAttr(\"disabled\")}this._disabledInputs=a.map(this._disabledInputs,function(o){return o==b?null:o})}},_disableDatepicker:function(b){var f=a(b),j=a.data(b, \"datepicker\");if(f.hasClass(this.markerClassName)){var l=b.nodeName.toLowerCase();if(l==\"input\"){b.disabled=true;j.trigger.filter(\"button\").each(function(){this.disabled=true}).end().filter(\"img\").css({opacity:\"0.5\",cursor:\"default\"})}else if(l==\"div\"l==\"span\"){f=f.children(\".\"+this._inlineClass);f.children().addClass(\"ui-state-disabled\");f.find(\"select.ui-datepicker-month, select.ui-datepicker-year\").attr(\"disabled\",\"disabled\")}this._disabledInputs=a.map(this._disabledInputs,function(o){return o== b?null:o});this._disabledInputs[this._disabledInputs.length]=b}},_isDisabledDatepicker:function(b){if(!b)return false;for(var f=0;f-1}},_doKeyUp:function(b){b=a.datepicker._getInst(b.target);if(b.input.val()!=b.lastVal)try{if(a.datepicker.parseDate(a.datepicker._get(b,\"dateFormat\"),b.input?b.input.val():null,a.datepicker._getFormatConfig(b))){a.datepicker._setDateFromField(b);a.datepicker._updateAlternate(b);a.datepicker._updateDatepicker(b)}}catch(f){a.datepicker.log(f)}return true},_showDatepicker:function(b){b=b.targetb;if(b.nodeName.toLowerCase()!=\"input\")b=a(\"input\", b.parentNode)[0];if(!(a.datepicker._isDisabledDatepicker(b)a.datepicker._lastInput==b)){var f=a.datepicker._getInst(b);if(a.datepicker._curInst&&a.datepicker._curInst!=f){a.datepicker._datepickerShowing&&a.datepicker._triggerOnClose(a.datepicker._curInst);a.datepicker._curInst.dpDiv.stop(true,true)}var j=a.datepicker._get(f,\"beforeShow\");j=j?j.apply(b,[b,f]):{};if(j!==false){h(f.settings,j);f.lastVal=null;a.datepicker._lastInput=b;a.datepicker._setDateFromField(f);if(a.datepicker._inDialog)b.value= \"\";if(!a.datepicker._pos){a.datepicker._pos=a.datepicker._findPos(b);a.datepicker._pos[1]+=b.offsetHeight}var l=false;a(b).parents().each(function(){l=a(this).css(\"position\")==\"fixed\";return!l});if(l&&a.browser.opera){a.datepicker._pos[0]-=document.documentElement.scrollLeft;a.datepicker._pos[1]-=document.documentElement.scrollTop}j={left:a.datepicker._pos[0],top:a.datepicker._pos[1]};a.datepicker._pos=null;f.dpDiv.empty();f.dpDiv.css({position:\"absolute\",display:\"block\",top:\"-1000px\"});a.datepicker._updateDatepicker(f); j=a.datepicker._checkOffset(f,j,l);f.dpDiv.css({position:a.datepicker._inDialog&&a.blockUI?\"static\":l?\"fixed\":\"absolute\",display:\"none\",left:j.left+\"px\",top:j.top+\"px\"});if(!f.inline){j=a.datepicker._get(f,\"showAnim\");var o=a.datepicker._get(f,\"duration\"),n=function(){var k=f.dpDiv.find(\"iframe.ui-datepicker-cover\");if(k.length){var m=a.datepicker._getBorders(f.dpDiv);k.css({left:-m[0],top:-m[1],width:f.dpDiv.outerWidth(),height:f.dpDiv.outerHeight()})}};f.dpDiv.zIndex(a(b).zIndex()+1);a.datepicker._datepickerShowing= true;a.effects&&a.effects[j]?f.dpDiv.show(j,a.datepicker._get(f,\"showOptions\"),o,n):f.dpDiv[j\"show\"](j?o:null,n);if(!j!o)n();f.input.is(\":visible\")&&!f.input.is(\":disabled\")&&f.input.focus();a.datepicker._curInst=f}}}},_updateDatepicker:function(b){this.maxRows=4;var f=a.datepicker._getBorders(b.dpDiv);i=b;b.dpDiv.empty().append(this._generateHTML(b));var j=b.dpDiv.find(\"iframe.ui-datepicker-cover\");j.length&&j.css({left:-f[0],top:-f[1],width:b.dpDiv.outerWidth(),height:b.dpDiv.outerHeight()}); b.dpDiv.find(\".\"+this._dayOverClass+\" a\").mouseover();f=this._getNumberOfMonths(b);j=f[1];b.dpDiv.removeClass(\"ui-datepicker-multi-2 ui-datepicker-multi-3 ui-datepicker-multi-4\").width(\"\");j>1&&b.dpDiv.addClass(\"ui-datepicker-multi-\"+j).css(\"width\",17*j+\"em\");b.dpDiv[(f[0]!=1f[1]!=1?\"add\":\"remove\")+\"Class\"](\"ui-datepicker-multi\");b.dpDiv[(this._get(b,\"isRTL\")?\"add\":\"remove\")+\"Class\"](\"ui-datepicker-rtl\");b==a.datepicker._curInst&&a.datepicker._datepickerShowing&&b.input&&b.input.is(\":visible\")&& !b.input.is(\":disabled\")&&b.input[0]!=document.activeElement&&b.input.focus();if(b.yearshtml){var l=b.yearshtml;setTimeout(function(){l===b.yearshtml&&b.yearshtml&&b.dpDiv.find(\"select.ui-datepicker-year:first\").replaceWith(b.yearshtml);l=b.yearshtml=null},0)}},_getBorders:function(b){var f=function(j){return{thin:1,medium:2,thick:3}[j]j};return[parseFloat(f(b.css(\"border-left-width\"))),parseFloat(f(b.css(\"border-top-width\")))]},_checkOffset:function(b,f,j){var l=b.dpDiv.outerWidth(),o=b.dpDiv.outerHeight(), n=b.input?b.input.outerWidth():0,k=b.input?b.input.outerHeight():0,m=document.documentElement.clientWidth+a(document).scrollLeft(),p=document.documentElement.clientHeight+a(document).scrollTop();f.left-=this._get(b,\"isRTL\")?l-n:0;f.left-=j&&f.left==b.input.offset().left?a(document).scrollLeft():0;f.top-=j&&f.top==b.input.offset().top+k?a(document).scrollTop():0;f.left-=Math.min(f.left,f.left+l>m&&m>l?Math.abs(f.left+l-m):0);f.top-=Math.min(f.top,f.top+o>p&&p>o?Math.abs(o+k):0);return f},_findPos:function(b){for(var f= this._get(this._getInst(b),\"isRTL\");b&&(b.type==\"hidden\"b.nodeType!=1a.expr.filters.hidden(b));)b=b[f?\"previousSibling\":\"nextSibling\"];b=a(b).offset();return[b.left,b.top]},_triggerOnClose:function(b){var f=this._get(b,\"onClose\");if(f)f.apply(b.input?b.input[0]:null,[b.input?b.input.val():\"\",b])},_hideDatepicker:function(b){var f=this._curInst;if(!(!fb&&f!=a.data(b,\"datepicker\")))if(this._datepickerShowing){b=this._get(f,\"showAnim\");var j=this._get(f,\"duration\"),l=function(){a.datepicker._tidyDialog(f); this._curInst=null};a.effects&&a.effects[b]?f.dpDiv.hide(b,a.datepicker._get(f,\"showOptions\"),j,l):f.dpDiv[b==\"slideDown\"?\"slideUp\":b==\"fadeIn\"?\"fadeOut\":\"hide\"](b?j:null,l);bl();a.datepicker._triggerOnClose(f);this._datepickerShowing=false;this._lastInput=null;if(this._inDialog){this._dialogInput.css({position:\"absolute\",left:\"0\",top:\"-100px\"});if(a.blockUI){a.unblockUI();a(\"body\").append(this.dpDiv)}}this._inDialog=false}},_tidyDialog:function(b){b.dpDiv.removeClass(this._dialogClass).unbind(\".ui-datepicker-calendar\")}, _checkExternalClick:function(b){if(a.datepicker._curInst){b=a(b.target);b[0].id!=a.datepicker._mainDivId&&b.parents(\"#\"+a.datepicker._mainDivId).length==0&&!b.hasClass(a.datepicker.markerClassName)&&!b.hasClass(a.datepicker._triggerClass)&&a.datepicker._datepickerShowing&&!(a.datepicker._inDialog&&a.blockUI)&&a.datepicker._hideDatepicker()}},_adjustDate:function(b,f,j){b=a(b);var l=this._getInst(b[0]);if(!this._isDisabledDatepicker(b[0])){this._adjustInstDate(l,f+(j==\"M\"?this._get(l,\"showCurrentAtPos\"): 0),j);this._updateDatepicker(l)}},_gotoToday:function(b){b=a(b);var f=this._getInst(b[0]);if(this._get(f,\"gotoCurrent\")&&f.currentDay){f.selectedDay=f.currentDay;f.drawMonth=f.selectedMonth=f.currentMonth;f.drawYear=f.selectedYear=f.currentYear}else{var j=new Date;f.selectedDay=j.getDate();f.drawMonth=f.selectedMonth=j.getMonth();f.drawYear=f.selectedYear=j.getFullYear()}this._notifyChange(f);this._adjustDate(b)},_selectMonthYear:function(b,f,j){b=a(b);var l=this._getInst(b[0]);l[\"selected\"+(j==\"M\"? \"Month\":\"Year\")]=l[\"draw\"+(j==\"M\"?\"Month\":\"Year\")]=parseInt(f.options[f.selectedIndex].value,10);this._notifyChange(l);this._adjustDate(b)},_selectDay:function(b,f,j,l){var o=a(b);if(!(a(l).hasClass(this._unselectableClass)this._isDisabledDatepicker(o[0]))){o=this._getInst(o[0]);o.selectedDay=o.currentDay=a(\"a\",l).html();o.selectedMonth=o.currentMonth=f;o.selectedYear=o.currentYear=j;this._selectDate(b,this._formatDate(o,o.currentDay,o.currentMonth,o.currentYear))}},_clearDate:function(b){b=a(b); this._getInst(b[0]);this._selectDate(b,\"\")},_selectDate:function(b,f){b=this._getInst(a(b)[0]);f=f!=null?f:this._formatDate(b);b.input&&b.input.val(f);this._updateAlternate(b);var j=this._get(b,\"onSelect\");if(j)j.apply(b.input?b.input[0]:null,[f,b]);else b.input&&b.input.trigger(\"change\");if(b.inline)this._updateDatepicker(b);else{this._hideDatepicker();this._lastInput=b.input[0];typeof b.input[0]!=\"object\"&&b.input.focus();this._lastInput=null}},_updateAlternate:function(b){var f=this._get(b,\"altField\"); if(f){var j=this._get(b,\"altFormat\")this._get(b,\"dateFormat\"),l=this._getDate(b),o=this.formatDate(j,l,this._getFormatConfig(b));a(f).each(function(){a(this).val(o)})}},noWeekends:function(b){b=b.getDay();return[b>0&&b<6,\"\"]},iso8601Week:function(b){b=new Date(b.getTime());b.setDate(b.getDate()+4-(b.getDay()7));var f=b.getTime();b.setMonth(0);b.setDate(1);return Math.floor(Math.round((f-b)/864E5)/7)+1},parseDate:function(b,f,j){if(b==nullf==null)throw\"Invalid arguments\";f=typeof f==\"object\"? f.toString():f+\"\";if(f==\"\")return null;var l=(j?j.shortYearCutoff:null)this._defaults.shortYearCutoff;l=typeof l!=\"string\"?l:(new Date).getFullYear()%100+parseInt(l,10);for(var o=(j?j.dayNamesShort:null)this._defaults.dayNamesShort,n=(j?j.dayNames:null)this._defaults.dayNames,k=(j?j.monthNamesShort:null)this._defaults.monthNamesShort,m=(j?j.monthNames:null)this._defaults.monthNames,p=j=-1,q=-1,s=-1,r=false,u=function(z){(z=H+1-1){p=1;q=s;do{l=this._getDaysInMonth(j,p-1);if(q<=l)break;p++;q-=l}while(1)}C=this._daylightSavingAdjust(new Date(j,p-1,q));if(C.getFullYear()!=jC.getMonth()+1!=pC.getDate()!=q)throw\"Invalid date\";return C},ATOM:\"yy-mm-dd\", COOKIE:\"D, dd M yy\",ISO_8601:\"yy-mm-dd\",RFC_822:\"D, d M y\",RFC_850:\"DD, dd-M-y\",RFC_1036:\"D, d M y\",RFC_1123:\"D, d M yy\",RFC_2822:\"D, d M yy\",RSS:\"D, d M y\",TICKS:\"!\",TIMESTAMP:\"@\",W3C:\"yy-mm-dd\",_ticksTo1970:(718685+Math.floor(492.5)-Math.floor(19.7)+Math.floor(4.925))*24*60*60*1E7,formatDate:function(b,f,j){if(!f)return\"\";var l=(j?j.dayNamesShort:null)this._defaults.dayNamesShort,o=(j?j.dayNames:null)this._defaults.dayNames,n=(j?j.monthNamesShort:null)this._defaults.monthNamesShort;j=(j?j.monthNames: null)this._defaults.monthNames;var k=function(u){(u=r+1 12?b.getHours()+2:0);return b},_setDate:function(b,f,j){var l=!f,o=b.selectedMonth,n=b.selectedYear;f=this._restrictMinMax(b,this._determineDate(b,f,new Date));b.selectedDay=b.currentDay=f.getDate();b.drawMonth=b.selectedMonth=b.currentMonth=f.getMonth();b.drawYear=b.selectedYear=b.currentYear=f.getFullYear();if((o!=b.selectedMonthn!=b.selectedYear)&&!j)this._notifyChange(b);this._adjustInstDate(b);if(b.input)b.input.val(l?\"\":this._formatDate(b))},_getDate:function(b){return!b.currentYearb.input&& b.input.val()==\"\"?null:this._daylightSavingAdjust(new Date(b.currentYear,b.currentMonth,b.currentDay))},_generateHTML:function(b){var f=new Date;f=this._daylightSavingAdjust(new Date(f.getFullYear(),f.getMonth(),f.getDate()));var j=this._get(b,\"isRTL\"),l=this._get(b,\"showButtonPanel\"),o=this._get(b,\"hideIfNoPrevNext\"),n=this._get(b,\"navigationAsDateFormat\"),k=this._getNumberOfMonths(b),m=this._get(b,\"showCurrentAtPos\"),p=this._get(b,\"stepMonths\"),q=k[0]!=1k[1]!=1,s=this._daylightSavingAdjust(!b.currentDay? new Date(9999,9,9):new Date(b.currentYear,b.currentMonth,b.currentDay)),r=this._getMinMaxDate(b,\"min\"),u=this._getMinMaxDate(b,\"max\");m=b.drawMonth-m;var v=b.drawYear;if(m<0){m+=12;v--}if(u){var w=this._daylightSavingAdjust(new Date(u.getFullYear(),u.getMonth()-k[0]*k[1]+1,u.getDate()));for(w=r&&ww;){m--;if(m<0){m=11;v--}}}b.drawMonth=m;b.drawYear=v;w=this._get(b,\"prevText\");w=!n?w:this.formatDate(w,this._daylightSavingAdjust(new Date(v,m-p,1)),this._getFormatConfig(b)); w=this._canAdjustMonth(b,-1,v,m)?\\' \\'+w+\" \":o?\"\":\\' \\'+w+\" \";var x=this._get(b,\"nextText\");x=!n?x:this.formatDate(x,this._daylightSavingAdjust(new Date(v, m+p,1)),this._getFormatConfig(b));o=this._canAdjustMonth(b,+1,v,m)?\\' \\'+x+\" \":o?\"\":\\' \\'+x+\" \";p=this._get(b,\"currentText\");x=this._get(b,\"gotoCurrent\")&& b.currentDay?s:f;p=!n?p:this.formatDate(p,x,this._getFormatConfig(b));n=!b.inline?\\'\\'+this._get(b,\"closeText\")+\"\":\"\";l=l?\\'\\n', '\\'))}},_connectDatepicker:function(b,f){var j=a(b);f.append=a([]);f.trigger=a([]);if(!j.hasClass(this.markerClassName)){this._attachments(j,f);j.addClass(this.markerClassName).keydown(this._doKeyDown).keypress(this._doKeyPress).keyup(this._doKeyUp).bind(\"setData.datepicker\", function(l,o,n){f.settings[o]=n}).bind(\"getData.datepicker\",function(l,o){return this._get(f,o)});this._autoSize(f);a.data(b,\"datepicker\",f);f.settings.disabled&&this._disableDatepicker(b)}},_attachments:function(b,f){var j=this._get(f,\"appendText\"),l=this._get(f,\"isRTL\");f.append&&f.append.remove();if(j){f.append=a(\\' \\'+j+\" \");b[l?\"before\":\"after\"](f.append)}b.unbind(\"focus\",this._showDatepicker);f.trigger&&f.trigger.remove();j=this._get(f,\"showOn\");if(j== \"focus\"j==\"both\")b.focus(this._showDatepicker);if(j==\"button\"j==\"both\"){j=this._get(f,\"buttonText\");var o=this._get(f,\"buttonImage\");f.trigger=a(this._get(f,\"buttonImageOnly\")?a(\"\").addClass(this._triggerClass).attr({src:o,alt:j,title:j}):a(\\'\\').addClass(this._triggerClass).html(o==\"\"?j:a(\"\").attr({src:o,alt:j,title:j})));b[l?\"before\":\"after\"](f.trigger);f.trigger.click(function(){a.datepicker._datepickerShowing&&a.datepicker._lastInput==b[0]?a.datepicker._hideDatepicker(): a.datepicker._showDatepicker(b[0]);return false})}},_autoSize:function(b){if(this._get(b,\"autoSize\")&&!b.inline){var f=new Date(2009,11,20),j=this._get(b,\"dateFormat\");if(j.match(/[DM]/)){var l=function(o){for(var n=0,k=0,m=0;mn){n=o[m].length;k=m}return k};f.setMonth(l(this._get(b,j.match(/MM/)?\"monthNames\":\"monthNamesShort\")));f.setDate(l(this._get(b,j.match(/DD/)?\"dayNames\":\"dayNamesShort\"))+20-f.getDay())}b.input.attr(\"size\",this._formatDate(b,f).length)}},_inlineDatepicker:function(b, f){var j=a(b);if(!j.hasClass(this.markerClassName)){j.addClass(this.markerClassName).append(f.dpDiv).bind(\"setData.datepicker\",function(l,o,n){f.settings[o]=n}).bind(\"getData.datepicker\",function(l,o){return this._get(f,o)});a.data(b,\"datepicker\",f);this._setDate(f,this._getDefaultDate(f),true);this._updateDatepicker(f);this._updateAlternate(f);f.settings.disabled&&this._disableDatepicker(b);f.dpDiv.css(\"display\",\"block\")}},_dialogDatepicker:function(b,f,j,l,o){b=this._dialogInst;if(!b){this.uuid+= 1;this._dialogInput=a(\\'\\');this._dialogInput.keydown(this._doKeyDown);a(\"body\").append(this._dialogInput);b=this._dialogInst=this._newInst(this._dialogInput,false);b.settings={};a.data(this._dialogInput[0],\"datepicker\",b)}h(b.settings,l{});f=f&&f.constructor==Date?this._formatDate(b,f):f;this._dialogInput.val(f);this._pos=o?o.length?o:[o.pageX,o.pageY]:null;if(!this._pos)this._pos=[document.documentElement.clientWidth/ 2-100+(document.documentElement.scrollLeftdocument.body.scrollLeft),document.documentElement.clientHeight/2-150+(document.documentElement.scrollTopdocument.body.scrollTop)];this._dialogInput.css(\"left\",this._pos[0]+20+\"px\").css(\"top\",this._pos[1]+\"px\");b.settings.onSelect=j;this._inDialog=true;this.dpDiv.addClass(this._dialogClass);this._showDatepicker(this._dialogInput[0]);a.blockUI&&a.blockUI(this.dpDiv);a.data(this._dialogInput[0],\"datepicker\",b);return this},_destroyDatepicker:function(b){var f= a(b),j=a.data(b,\"datepicker\");if(f.hasClass(this.markerClassName)){var l=b.nodeName.toLowerCase();a.removeData(b,\"datepicker\");if(l==\"input\"){j.append.remove();j.trigger.remove();f.removeClass(this.markerClassName).unbind(\"focus\",this._showDatepicker).unbind(\"keydown\",this._doKeyDown).unbind(\"keypress\",this._doKeyPress).unbind(\"keyup\",this._doKeyUp)}else if(l==\"div\"l==\"span\")f.removeClass(this.markerClassName).empty()}},_enableDatepicker:function(b){var f=a(b),j=a.data(b,\"datepicker\");if(f.hasClass(this.markerClassName)){var l= b.nodeName.toLowerCase();if(l==\"input\"){b.disabled=false;j.trigger.filter(\"button\").each(function(){this.disabled=false}).end().filter(\"img\").css({opacity:\"1.0\",cursor:\"\"})}else if(l==\"div\"l==\"span\"){f=f.children(\".\"+this._inlineClass);f.children().removeClass(\"ui-state-disabled\");f.find(\"select.ui-datepicker-month, select.ui-datepicker-year\").removeAttr(\"disabled\")}this._disabledInputs=a.map(this._disabledInputs,function(o){return o==b?null:o})}},_disableDatepicker:function(b){var f=a(b),j=a.data(b, \"datepicker\");if(f.hasClass(this.markerClassName)){var l=b.nodeName.toLowerCase();if(l==\"input\"){b.disabled=true;j.trigger.filter(\"button\").each(function(){this.disabled=true}).end().filter(\"img\").css({opacity:\"0.5\",cursor:\"default\"})}else if(l==\"div\"l==\"span\"){f=f.children(\".\"+this._inlineClass);f.children().addClass(\"ui-state-disabled\");f.find(\"select.ui-datepicker-month, select.ui-datepicker-year\").attr(\"disabled\",\"disabled\")}this._disabledInputs=a.map(this._disabledInputs,function(o){return o== b?null:o});this._disabledInputs[this._disabledInputs.length]=b}},_isDisabledDatepicker:function(b){if(!b)return false;for(var f=0;f-1}},_doKeyUp:function(b){b=a.datepicker._getInst(b.target);if(b.input.val()!=b.lastVal)try{if(a.datepicker.parseDate(a.datepicker._get(b,\"dateFormat\"),b.input?b.input.val():null,a.datepicker._getFormatConfig(b))){a.datepicker._setDateFromField(b);a.datepicker._updateAlternate(b);a.datepicker._updateDatepicker(b)}}catch(f){a.datepicker.log(f)}return true},_showDatepicker:function(b){b=b.targetb;if(b.nodeName.toLowerCase()!=\"input\")b=a(\"input\", b.parentNode)[0];if(!(a.datepicker._isDisabledDatepicker(b)a.datepicker._lastInput==b)){var f=a.datepicker._getInst(b);if(a.datepicker._curInst&&a.datepicker._curInst!=f){a.datepicker._datepickerShowing&&a.datepicker._triggerOnClose(a.datepicker._curInst);a.datepicker._curInst.dpDiv.stop(true,true)}var j=a.datepicker._get(f,\"beforeShow\");j=j?j.apply(b,[b,f]):{};if(j!==false){h(f.settings,j);f.lastVal=null;a.datepicker._lastInput=b;a.datepicker._setDateFromField(f);if(a.datepicker._inDialog)b.value= \"\";if(!a.datepicker._pos){a.datepicker._pos=a.datepicker._findPos(b);a.datepicker._pos[1]+=b.offsetHeight}var l=false;a(b).parents().each(function(){l=a(this).css(\"position\")==\"fixed\";return!l});if(l&&a.browser.opera){a.datepicker._pos[0]-=document.documentElement.scrollLeft;a.datepicker._pos[1]-=document.documentElement.scrollTop}j={left:a.datepicker._pos[0],top:a.datepicker._pos[1]};a.datepicker._pos=null;f.dpDiv.empty();f.dpDiv.css({position:\"absolute\",display:\"block\",top:\"-1000px\"});a.datepicker._updateDatepicker(f); j=a.datepicker._checkOffset(f,j,l);f.dpDiv.css({position:a.datepicker._inDialog&&a.blockUI?\"static\":l?\"fixed\":\"absolute\",display:\"none\",left:j.left+\"px\",top:j.top+\"px\"});if(!f.inline){j=a.datepicker._get(f,\"showAnim\");var o=a.datepicker._get(f,\"duration\"),n=function(){var k=f.dpDiv.find(\"iframe.ui-datepicker-cover\");if(k.length){var m=a.datepicker._getBorders(f.dpDiv);k.css({left:-m[0],top:-m[1],width:f.dpDiv.outerWidth(),height:f.dpDiv.outerHeight()})}};f.dpDiv.zIndex(a(b).zIndex()+1);a.datepicker._datepickerShowing= true;a.effects&&a.effects[j]?f.dpDiv.show(j,a.datepicker._get(f,\"showOptions\"),o,n):f.dpDiv[j\"show\"](j?o:null,n);if(!j!o)n();f.input.is(\":visible\")&&!f.input.is(\":disabled\")&&f.input.focus();a.datepicker._curInst=f}}}},_updateDatepicker:function(b){this.maxRows=4;var f=a.datepicker._getBorders(b.dpDiv);i=b;b.dpDiv.empty().append(this._generateHTML(b));var j=b.dpDiv.find(\"iframe.ui-datepicker-cover\");j.length&&j.css({left:-f[0],top:-f[1],width:b.dpDiv.outerWidth(),height:b.dpDiv.outerHeight()}); b.dpDiv.find(\".\"+this._dayOverClass+\" a\").mouseover();f=this._getNumberOfMonths(b);j=f[1];b.dpDiv.removeClass(\"ui-datepicker-multi-2 ui-datepicker-multi-3 ui-datepicker-multi-4\").width(\"\");j>1&&b.dpDiv.addClass(\"ui-datepicker-multi-\"+j).css(\"width\",17*j+\"em\");b.dpDiv[(f[0]!=1f[1]!=1?\"add\":\"remove\")+\"Class\"](\"ui-datepicker-multi\");b.dpDiv[(this._get(b,\"isRTL\")?\"add\":\"remove\")+\"Class\"](\"ui-datepicker-rtl\");b==a.datepicker._curInst&&a.datepicker._datepickerShowing&&b.input&&b.input.is(\":visible\")&& !b.input.is(\":disabled\")&&b.input[0]!=document.activeElement&&b.input.focus();if(b.yearshtml){var l=b.yearshtml;setTimeout(function(){l===b.yearshtml&&b.yearshtml&&b.dpDiv.find(\"select.ui-datepicker-year:first\").replaceWith(b.yearshtml);l=b.yearshtml=null},0)}},_getBorders:function(b){var f=function(j){return{thin:1,medium:2,thick:3}[j]j};return[parseFloat(f(b.css(\"border-left-width\"))),parseFloat(f(b.css(\"border-top-width\")))]},_checkOffset:function(b,f,j){var l=b.dpDiv.outerWidth(),o=b.dpDiv.outerHeight(), n=b.input?b.input.outerWidth():0,k=b.input?b.input.outerHeight():0,m=document.documentElement.clientWidth+a(document).scrollLeft(),p=document.documentElement.clientHeight+a(document).scrollTop();f.left-=this._get(b,\"isRTL\")?l-n:0;f.left-=j&&f.left==b.input.offset().left?a(document).scrollLeft():0;f.top-=j&&f.top==b.input.offset().top+k?a(document).scrollTop():0;f.left-=Math.min(f.left,f.left+l>m&&m>l?Math.abs(f.left+l-m):0);f.top-=Math.min(f.top,f.top+o>p&&p>o?Math.abs(o+k):0);return f},_findPos:function(b){for(var f= this._get(this._getInst(b),\"isRTL\");b&&(b.type==\"hidden\"b.nodeType!=1a.expr.filters.hidden(b));)b=b[f?\"previousSibling\":\"nextSibling\"];b=a(b).offset();return[b.left,b.top]},_triggerOnClose:function(b){var f=this._get(b,\"onClose\");if(f)f.apply(b.input?b.input[0]:null,[b.input?b.input.val():\"\",b])},_hideDatepicker:function(b){var f=this._curInst;if(!(!fb&&f!=a.data(b,\"datepicker\")))if(this._datepickerShowing){b=this._get(f,\"showAnim\");var j=this._get(f,\"duration\"),l=function(){a.datepicker._tidyDialog(f); this._curInst=null};a.effects&&a.effects[b]?f.dpDiv.hide(b,a.datepicker._get(f,\"showOptions\"),j,l):f.dpDiv[b==\"slideDown\"?\"slideUp\":b==\"fadeIn\"?\"fadeOut\":\"hide\"](b?j:null,l);bl();a.datepicker._triggerOnClose(f);this._datepickerShowing=false;this._lastInput=null;if(this._inDialog){this._dialogInput.css({position:\"absolute\",left:\"0\",top:\"-100px\"});if(a.blockUI){a.unblockUI();a(\"body\").append(this.dpDiv)}}this._inDialog=false}},_tidyDialog:function(b){b.dpDiv.removeClass(this._dialogClass).unbind(\".ui-datepicker-calendar\")}, _checkExternalClick:function(b){if(a.datepicker._curInst){b=a(b.target);b[0].id!=a.datepicker._mainDivId&&b.parents(\"#\"+a.datepicker._mainDivId).length==0&&!b.hasClass(a.datepicker.markerClassName)&&!b.hasClass(a.datepicker._triggerClass)&&a.datepicker._datepickerShowing&&!(a.datepicker._inDialog&&a.blockUI)&&a.datepicker._hideDatepicker()}},_adjustDate:function(b,f,j){b=a(b);var l=this._getInst(b[0]);if(!this._isDisabledDatepicker(b[0])){this._adjustInstDate(l,f+(j==\"M\"?this._get(l,\"showCurrentAtPos\"): 0),j);this._updateDatepicker(l)}},_gotoToday:function(b){b=a(b);var f=this._getInst(b[0]);if(this._get(f,\"gotoCurrent\")&&f.currentDay){f.selectedDay=f.currentDay;f.drawMonth=f.selectedMonth=f.currentMonth;f.drawYear=f.selectedYear=f.currentYear}else{var j=new Date;f.selectedDay=j.getDate();f.drawMonth=f.selectedMonth=j.getMonth();f.drawYear=f.selectedYear=j.getFullYear()}this._notifyChange(f);this._adjustDate(b)},_selectMonthYear:function(b,f,j){b=a(b);var l=this._getInst(b[0]);l[\"selected\"+(j==\"M\"? \"Month\":\"Year\")]=l[\"draw\"+(j==\"M\"?\"Month\":\"Year\")]=parseInt(f.options[f.selectedIndex].value,10);this._notifyChange(l);this._adjustDate(b)},_selectDay:function(b,f,j,l){var o=a(b);if(!(a(l).hasClass(this._unselectableClass)this._isDisabledDatepicker(o[0]))){o=this._getInst(o[0]);o.selectedDay=o.currentDay=a(\"a\",l).html();o.selectedMonth=o.currentMonth=f;o.selectedYear=o.currentYear=j;this._selectDate(b,this._formatDate(o,o.currentDay,o.currentMonth,o.currentYear))}},_clearDate:function(b){b=a(b); this._getInst(b[0]);this._selectDate(b,\"\")},_selectDate:function(b,f){b=this._getInst(a(b)[0]);f=f!=null?f:this._formatDate(b);b.input&&b.input.val(f);this._updateAlternate(b);var j=this._get(b,\"onSelect\");if(j)j.apply(b.input?b.input[0]:null,[f,b]);else b.input&&b.input.trigger(\"change\");if(b.inline)this._updateDatepicker(b);else{this._hideDatepicker();this._lastInput=b.input[0];typeof b.input[0]!=\"object\"&&b.input.focus();this._lastInput=null}},_updateAlternate:function(b){var f=this._get(b,\"altField\"); if(f){var j=this._get(b,\"altFormat\")this._get(b,\"dateFormat\"),l=this._getDate(b),o=this.formatDate(j,l,this._getFormatConfig(b));a(f).each(function(){a(this).val(o)})}},noWeekends:function(b){b=b.getDay();return[b>0&&b<6,\"\"]},iso8601Week:function(b){b=new Date(b.getTime());b.setDate(b.getDate()+4-(b.getDay()7));var f=b.getTime();b.setMonth(0);b.setDate(1);return Math.floor(Math.round((f-b)/864E5)/7)+1},parseDate:function(b,f,j){if(b==nullf==null)throw\"Invalid arguments\";f=typeof f==\"object\"? f.toString():f+\"\";if(f==\"\")return null;var l=(j?j.shortYearCutoff:null)this._defaults.shortYearCutoff;l=typeof l!=\"string\"?l:(new Date).getFullYear()%100+parseInt(l,10);for(var o=(j?j.dayNamesShort:null)this._defaults.dayNamesShort,n=(j?j.dayNames:null)this._defaults.dayNames,k=(j?j.monthNamesShort:null)this._defaults.monthNamesShort,m=(j?j.monthNames:null)this._defaults.monthNames,p=j=-1,q=-1,s=-1,r=false,u=function(z){(z=H+1-1){p=1;q=s;do{l=this._getDaysInMonth(j,p-1);if(q<=l)break;p++;q-=l}while(1)}C=this._daylightSavingAdjust(new Date(j,p-1,q));if(C.getFullYear()!=jC.getMonth()+1!=pC.getDate()!=q)throw\"Invalid date\";return C},ATOM:\"yy-mm-dd\", COOKIE:\"D, dd M yy\",ISO_8601:\"yy-mm-dd\",RFC_822:\"D, d M y\",RFC_850:\"DD, dd-M-y\",RFC_1036:\"D, d M y\",RFC_1123:\"D, d M yy\",RFC_2822:\"D, d M yy\",RSS:\"D, d M y\",TICKS:\"!\",TIMESTAMP:\"@\",W3C:\"yy-mm-dd\",_ticksTo1970:(718685+Math.floor(492.5)-Math.floor(19.7)+Math.floor(4.925))*24*60*60*1E7,formatDate:function(b,f,j){if(!f)return\"\";var l=(j?j.dayNamesShort:null)this._defaults.dayNamesShort,o=(j?j.dayNames:null)this._defaults.dayNames,n=(j?j.monthNamesShort:null)this._defaults.monthNamesShort;j=(j?j.monthNames: null)this._defaults.monthNames;var k=function(u){(u=r+1 12?b.getHours()+2:0);return b},_setDate:function(b,f,j){var l=!f,o=b.selectedMonth,n=b.selectedYear;f=this._restrictMinMax(b,this._determineDate(b,f,new Date));b.selectedDay=b.currentDay=f.getDate();b.drawMonth=b.selectedMonth=b.currentMonth=f.getMonth();b.drawYear=b.selectedYear=b.currentYear=f.getFullYear();if((o!=b.selectedMonthn!=b.selectedYear)&&!j)this._notifyChange(b);this._adjustInstDate(b);if(b.input)b.input.val(l?\"\":this._formatDate(b))},_getDate:function(b){return!b.currentYearb.input&& b.input.val()==\"\"?null:this._daylightSavingAdjust(new Date(b.currentYear,b.currentMonth,b.currentDay))},_generateHTML:function(b){var f=new Date;f=this._daylightSavingAdjust(new Date(f.getFullYear(),f.getMonth(),f.getDate()));var j=this._get(b,\"isRTL\"),l=this._get(b,\"showButtonPanel\"),o=this._get(b,\"hideIfNoPrevNext\"),n=this._get(b,\"navigationAsDateFormat\"),k=this._getNumberOfMonths(b),m=this._get(b,\"showCurrentAtPos\"),p=this._get(b,\"stepMonths\"),q=k[0]!=1k[1]!=1,s=this._daylightSavingAdjust(!b.currentDay? new Date(9999,9,9):new Date(b.currentYear,b.currentMonth,b.currentDay)),r=this._getMinMaxDate(b,\"min\"),u=this._getMinMaxDate(b,\"max\");m=b.drawMonth-m;var v=b.drawYear;if(m<0){m+=12;v--}if(u){var w=this._daylightSavingAdjust(new Date(u.getFullYear(),u.getMonth()-k[0]*k[1]+1,u.getDate()));for(w=r&&ww;){m--;if(m<0){m=11;v--}}}b.drawMonth=m;b.drawYear=v;w=this._get(b,\"prevText\");w=!n?w:this.formatDate(w,this._daylightSavingAdjust(new Date(v,m-p,1)),this._getFormatConfig(b)); w=this._canAdjustMonth(b,-1,v,m)?\\' \\'+w+\" \":o?\"\":\\' \\'+w+\" \";var x=this._get(b,\"nextText\");x=!n?x:this.formatDate(x,this._daylightSavingAdjust(new Date(v, m+p,1)),this._getFormatConfig(b));o=this._canAdjustMonth(b,+1,v,m)?\\' \\'+x+\" \":o?\"\":\\' \\'+x+\" \";p=this._get(b,\"currentText\");x=this._get(b,\"gotoCurrent\")&& b.currentDay?s:f;p=!n?p:this.formatDate(p,x,this._getFormatConfig(b));n=!b.inline?\\'\\'+this._get(b,\"closeText\")+\"\":\"\";l=l?\\'\\n')\n",
            "Smallest ratio: ('????[/b][/url], [url=http://www.moofpack.com/???????-??-gucci-???????-?????-????????-????-203550aa61g2019-p-3264.html][b]???????\\n', '.\\n')\n",
            "Biggest ratio: ('-\\n', 'Cамые свежие новости о главных событиях власти,политики,спорта,культуры,происшествия,экономики,бизнеса,иносми -\\n')\n",
            "Counts of pairs: 12061155\n"
          ]
        }
      ]
    },
    {
      "cell_type": "code",
      "source": [
        "from collections import Counter\n",
        "import matplotlib.pyplot as plt\n",
        "\n",
        "def plot_len_hist(stat):\n",
        "    plt.hist(stat[1]['len']['eng'], 40, facecolor='g')#[x[0] for x in distr['eng']], 40, facecolor='g')\n",
        "    plt.xlabel('Length of sentence, charecters')\n",
        "    plt.ylabel('Amount of senteces with such length')\n",
        "    plt.show()\n",
        "\n",
        "plot_len_hist(stats_init)"
      ],
      "metadata": {
        "colab": {
          "base_uri": "https://localhost:8080/",
          "height": 290
        },
        "id": "Y-dBOwHdogC6",
        "outputId": "0f2e8c15-c243-4031-a20f-f7d7bbb933e6"
      },
      "execution_count": null,
      "outputs": [
        {
          "output_type": "display_data",
          "data": {
            "image/png": "[encoded data removed]",
            "text/plain": [
              "<Figure size 432x288 with 1 Axes>"
            ]
          },
          "metadata": {
            "needs_background": "light"
          }
        }
      ]
    },
    {
      "cell_type": "code",
      "source": [
        "def plot_counts_boxplot(stats):\n",
        "    l = stats[1]['len']\n",
        "    plt.boxplot(l['eng'])\n",
        "    #plt.boxplot(l['rus'])\n",
        "    plt.ylabel(\"Length of Eng sentence\")\n",
        "    plt.show()\n",
        "\n",
        "plot_counts_boxplot(stats_init)"
      ],
      "metadata": {
        "colab": {
          "base_uri": "https://localhost:8080/",
          "height": 265
        },
        "id": "_sKmkDWfryXF",
        "outputId": "1c5900a4-53cd-4098-e0ce-e6def893e020"
      },
      "execution_count": null,
      "outputs": [
        {
          "output_type": "display_data",
          "data": {
            "image/png": "[encoded data removed]",
            "text/plain": [
              "<Figure size 432x288 with 1 Axes>"
            ]
          },
          "metadata": {
            "needs_background": "light"
          }
        }
      ]
    },
    {
      "cell_type": "markdown",
      "source": [
        "### Harsh filtering"
      ],
      "metadata": {
        "id": "rbSpL0FwuPYY"
      }
    },
    {
      "cell_type": "markdown",
      "source": [
        "Remove elements with links"
      ],
      "metadata": {
        "id": "Rf1X5QqUmROp"
      }
    },
    {
      "cell_type": "code",
      "source": [
        "stop_chrt = ['http', 'url', 'www', 'html']\n",
        "junk_elems = [(idx, sent) for lines in [lines_eng, lines_rus]\n",
        "              for idx, sent in enumerate(lines) \n",
        "              if any(sw in sent for sw in stop_chrt)]\n",
        "junk_elems[:20], len(junk_elems)"
      ],
      "metadata": {
        "colab": {
          "base_uri": "https://localhost:8080/"
        },
        "id": "_ikfff6wilkL",
        "outputId": "f6cea05d-c287-4d12-bec6-5a729bab3f43"
      },
      "execution_count": null,
      "outputs": [
        {
          "output_type": "execute_result",
          "data": {
            "text/plain": [
              "([(561,\n",
              "   'This can be consulted on the internet: www.cathedralerussenice.org/spip/spip.php?article61. In addition, following the judgement given by the Court of Appeal in Aix-en-Provence on May 19th 2011, the Religious Association ACOR decided to take the case to the final court of appeal.\\n'),\n",
              "  (648,\n",
              "   'To know exactly the times of the bus, follow this link: http://217.141.151.2/orari/urbani_minori/html/MAS0C.htm\\n'),\n",
              "  (793,\n",
              "   'There will be offered four thematic sessions depending on the child’s age. A. Brodeles st., Viesite, Jekabpils novads, LV-5237, Latvija +371 65245549, +371 29116334 viesitesmuzejsselija@inbox.lv www.viestie.lt\\n'),\n",
              "  (812,\n",
              "   'His carved sculpture of a woman was displayed in an exhibition together with M. K. Čiurlionis paintings.\\n'),\n",
              "  (960, 'www.koktelnieki.lv\\n'),\n",
              "  (1167, 'http://mp.zarabotak.com/Jeff%20Buckley.php\\n'),\n",
              "  (1168, 'http://mp.zarabotak.com/Catedral.php\\n'),\n",
              "  (1169, 'http://mp.zarabotak.com/Gary%20Burton.php\\n'),\n",
              "  (1170, 'http://mp.zarabotak.com/David%20Cassidy.php\\n'),\n",
              "  (1171, 'http://mp.zarabotak.com/U.D.O..php\\n'),\n",
              "  (1172, 'http://mp.zarabotak.com/Donnie%20McClurkin.php\\n'),\n",
              "  (1180, '- https://www.smallbusinessforums.org/sho ... ss-account\\n'),\n",
              "  (1224, 'http://www.fivefiles.com/files/2516/\\n'),\n",
              "  (1226, 'http://depositfiles.com/folders/8BVCI7LS0\\n'),\n",
              "  (1230,\n",
              "   'Exxon Valdez oil spill http://www.youtube.com/watch?v=dtF-4JvSh8o&sns=tw. Nature can to get rid of all ills, misfortune and razrusheny: http://www.youtube.com/watch?v=GUwnn99YOC0&sns=tw. Profit Pollution and Deception BP and the Oil Spill BBC Documentary http://www.youtube.com/watch?v=8zGFvzMMO9w&sns=tw. Dakota Access Pipeline Company Attacks Native American Protesters with Dogs & Pepper Spray http://www.youtube.com/watch?v=kuZcx2zEo4k&sns=tw. Environmental problems of the Earth! http://www.youtube.com/watch?v=1pe-KV6J-uE&sns=fb\\n'),\n",
              "  (1248, '- http://www.music-video.ru\\n'),\n",
              "  (1249, 'http://nnprog.ru/ - Фильмы, видиоклипы, MP3.\\n'),\n",
              "  (1250, 'http://marilynmanson.ru/archive/video/clips.html ЗДЕСЬ!\\n'),\n",
              "  (1264,\n",
              "   'Exxon Valdez oil spill http://www.youtube.com/watch?v=dtF-4JvSh8o&sns=tw. Nature can to get rid of all ills, misfortune and razrusheny: http://www.youtube.com/watch?v=GUwnn99YOC0&sns=tw. Profit Pollution and Deception BP and the Oil Spill BBC Documentary http://www.youtube.com/watch?v=8zGFvzMMO9w&sns=tw. Dakota Access Pipeline Company Attacks Native American Protesters with Dogs & Pepper Spray http://www.youtube.com/watch?v=kuZcx2zEo4k&sns=tw. Environmental problems of the Earth! http://www.youtube.com/watch?v=1pe-KV6J-uE&sns=fb\\n'),\n",
              "  (1281,\n",
              "   'Between us and other animals and plants, there is no difference, because we are all children of the Earth and we are all one family. We all the world should live according to the laws of mother nature, to save the Earth from ecological disaster.Exxon Valdez oil spill http://www.youtube.com/watch?v=dtF-4JvSh8o&sns=tw. Nature can to get rid of all ills, misfortune and razrusheny: http://www.youtube.com/watch?v=GUwnn99YOC0&sns=tw. Profit Pollution and Deception BP and the Oil Spill BBC Documentary http://www.youtube.com/watch?v=8zGFvzMMO9w&sns=tw. Dakota Access Pipeline Company Attacks Native American Protesters with Dogs & Pepper Spray http://www.youtube.com/watch?v=kuZcx2zEo4k&sns=tw. Environmental problems of the Earth! http://www.youtube.com/watch?v=1pe-KV6J-uE&sns=fb\\n')],\n",
              " 854333)"
            ]
          },
          "metadata": {},
          "execution_count": 12
        }
      ]
    },
    {
      "cell_type": "code",
      "source": [
        "filtered_lines = {}\n",
        "junk_idxs = set([x[0] for x in junk_elems])\n",
        "for data, key in [(lines_rus, 'rus'), (lines_eng, 'eng')]:\n",
        "    filtered_lines[key] = [sent for idx, sent in enumerate(data) if idx not in junk_idxs]"
      ],
      "metadata": {
        "id": "Z-BWGJ06u7zt"
      },
      "execution_count": null,
      "outputs": []
    },
    {
      "cell_type": "code",
      "source": [
        "stats_hard_filtered = get_statistics(filtered_lines['rus'], filtered_lines['eng'])\n",
        "print(stats_hard_filtered[0])\n",
        "plot_counts_boxplot(stats_hard_filtered)"
      ],
      "metadata": {
        "colab": {
          "base_uri": "https://localhost:8080/",
          "height": 469
        },
        "id": "sX67ibpyv2iQ",
        "outputId": "b32353fe-8de2-44cc-a32b-9747284f2811"
      },
      "execution_count": null,
      "outputs": [
        {
          "output_type": "stream",
          "name": "stdout",
          "text": [
            "Lenght statistics:\n",
            "Rus:{'mean': 77.41984288225754, 'argmin': 675, 'argmax': 9230692, 'min': 2, 'max': 6775}\n",
            "Eng{'mean': 80.71968020958668, 'argmin': 675, 'argmax': 9230692, 'min': 2, 'max': 6775}\n",
            "Rus / Eng {'mean': 1.038811039612353, 'argmin': 8540394, 'argmax': 7066074, 'min': 0.018404907975460124, 'max': 56.0}\n",
            "Pairs\n",
            "Smallest: ('?\\n', '?\\n')\n",
            "Longest: ('\").appendTo(this.element).addClass(\"ui-slider-range ui-widget-header\"+(c.range===\"min\"c.range===\"max\"?\" ui-slider-range-\"+c.range:\"\"))}for(var i=e.length;i\"); this.handles=e.add(a(g.join(\"\")).appendTo(d.element));this.handle=this.handles.eq(0);this.handles.add(this.range).filter(\"a\").click(function(b){b.preventDefault()}).hover(function(){c.disableda(this).addClass(\"ui-state-hover\")},function(){a(this).removeClass(\"ui-state-hover\")}).focus(function(){if(c.disabled)a(this).blur();else{a(\".ui-slider .ui-state-focus\").removeClass(\"ui-state-focus\");a(this).addClass(\"ui-state-focus\")}}).blur(function(){a(this).removeClass(\"ui-state-focus\")});this.handles.each(function(b){a(this).data(\"index.ui-slider-handle\", b)});this.handles.keydown(function(b){var f=true,j=a(this).data(\"index.ui-slider-handle\"),l,o,n;if(!d.options.disabled){switch(b.keyCode){case a.ui.keyCode.HOME:case a.ui.keyCode.END:case a.ui.keyCode.PAGE_UP:case a.ui.keyCode.PAGE_DOWN:case a.ui.keyCode.UP:case a.ui.keyCode.RIGHT:case a.ui.keyCode.DOWN:case a.ui.keyCode.LEFT:f=false;if(!d._keySliding){d._keySliding=true;a(this).addClass(\"ui-state-active\");l=d._start(b,j);if(l===false)return}break}n=d.options.step;l=d.options.values&&d.options.values.length? (o=d.values(j)):(o=d.value());switch(b.keyCode){case a.ui.keyCode.HOME:o=d._valueMin();break;case a.ui.keyCode.END:o=d._valueMax();break;case a.ui.keyCode.PAGE_UP:o=d._trimAlignValue(l+(d._valueMax()-d._valueMin())/5);break;case a.ui.keyCode.PAGE_DOWN:o=d._trimAlignValue(l-(d._valueMax()-d._valueMin())/5);break;case a.ui.keyCode.UP:case a.ui.keyCode.RIGHT:if(l===d._valueMax())return;o=d._trimAlignValue(l+n);break;case a.ui.keyCode.DOWN:case a.ui.keyCode.LEFT:if(l===d._valueMin())return;o=d._trimAlignValue(l- n);break}d._slide(b,j,o);return f}}).keyup(function(b){var f=a(this).data(\"index.ui-slider-handle\");if(d._keySliding){d._keySliding=false;d._stop(b,f);d._change(b,f);a(this).removeClass(\"ui-state-active\")}});this._refreshValue();this._animateOff=false},destroy:function(){this.handles.remove();this.range.remove();this.element.removeClass(\"ui-slider ui-slider-horizontal ui-slider-vertical ui-slider-disabled ui-widget ui-widget-content ui-corner-all\").removeData(\"slider\").unbind(\".slider\");this._mouseDestroy(); return this},_mouseCapture:function(d){var c=this.options,e,h,g,i,b;if(c.disabled)return false;this.elementSize={width:this.element.outerWidth(),height:this.element.outerHeight()};this.elementOffset=this.element.offset();e=this._normValueFromMouse({x:d.pageX,y:d.pageY});h=this._valueMax()-this._valueMin()+1;i=this;this.handles.each(function(f){var j=Math.abs(e-i.values(f));if(h>j){h=j;g=a(this);b=f}});if(c.range===true&&this.values(1)===c.min){b+=1;g=a(this.handles[b])}if(this._start(d,b)===false)return false; this._mouseSliding=true;i._handleIndex=b;g.addClass(\"ui-state-active\").focus();c=g.offset();this._clickOffset=!a(d.target).parents().andSelf().is(\".ui-slider-handle\")?{left:0,top:0}:{left:d.pageX-c.left-g.width()/2,top:d.pageY-c.top-g.height()/2-(parseInt(g.css(\"borderTopWidth\"),10)0)-(parseInt(g.css(\"borderBottomWidth\"),10)0)+(parseInt(g.css(\"marginTop\"),10)0)};this.handles.hasClass(\"ui-state-hover\")this._slide(d,b,e);return this._animateOff=true},_mouseStart:function(){return true},_mouseDrag:function(d){var c= this._normValueFromMouse({x:d.pageX,y:d.pageY});this._slide(d,this._handleIndex,c);return false},_mouseStop:function(d){this.handles.removeClass(\"ui-state-active\");this._mouseSliding=false;this._stop(d,this._handleIndex);this._change(d,this._handleIndex);this._clickOffset=this._handleIndex=null;return this._animateOff=false},_detectOrientation:function(){this.orientation=this.options.orientation===\"vertical\"?\"vertical\":\"horizontal\"},_normValueFromMouse:function(d){var c;if(this.orientation===\"horizontal\"){c= this.elementSize.width;d=d.x-this.elementOffset.left-(this._clickOffset?this._clickOffset.left:0)}else{c=this.elementSize.height;d=d.y-this.elementOffset.top-(this._clickOffset?this._clickOffset.top:0)}c=d/c;if(c>1)c=1;if(c<0)c=0;if(this.orientation===\"vertical\")c=1-c;d=this._valueMax()-this._valueMin();return this._trimAlignValue(this._valueMin()+c*d)},_start:function(d,c){var e={handle:this.handles[c],value:this.value()};if(this.options.values&&this.options.values.length){e.value=this.values(c); e.values=this.values()}return this._trigger(\"start\",d,e)},_slide:function(d,c,e){var h;if(this.options.values&&this.options.values.length){h=this.values(c?0:1);if(this.options.values.length===2&&this.options.range===true&&(c===0&&e>hc===1&&e1){this.options.values[d]=this._trimAlignValue(c);this._refreshValue();this._change(null,d)}else if(arguments.length)if(a.isArray(arguments[0])){e=this.options.values;h=arguments[0];for(g=0;g=this._valueMax())return this._valueMax();var c=this.options.step>0?this.options.step:1,e=(d-this._valueMin())%c;d=d-e;if(Math.abs(e)*2>=c)d+=e>0?c:-c;return parseFloat(d.toFixed(5))},_valueMin:function(){return this.options.min},_valueMax:function(){return this.options.max},_refreshValue:function(){var d= this.options.range,c=this.options,e=this,h=!this._animateOff?c.animate:false,g,i={},b,f,j,l;if(this.options.values&&this.options.values.length)this.handles.each(function(o){g=(e.values(o)-e._valueMin())/(e._valueMax()-e._valueMin())*100;i[e.orientation===\"horizontal\"?\"left\":\"bottom\"]=g+\"%\";a(this).stop(1,1)[h?\"animate\":\"css\"](i,c.animate);if(e.options.range===true)if(e.orientation===\"horizontal\"){if(o===0)e.range.stop(1,1)[h?\"animate\":\"css\"]({left:g+\"%\"},c.animate);if(o===1)e.range[h?\"animate\":\"css\"]({width:g- b+\"%\"},{queue:false,duration:c.animate})}else{if(o===0)e.range.stop(1,1)[h?\"animate\":\"css\"]({bottom:g+\"%\"},c.animate);if(o===1)e.range[h?\"animate\":\"css\"]({height:g-b+\"%\"},{queue:false,duration:c.animate})}b=g});else{f=this.value();j=this._valueMin();l=this._valueMax();g=l!==j?(f-j)/(l-j)*100:0;i[e.orientation===\"horizontal\"?\"left\":\"bottom\"]=g+\"%\";this.handle.stop(1,1)[h?\"animate\":\"css\"](i,c.animate);if(d===\"min\"&&this.orientation===\"horizontal\")this.range.stop(1,1)[h?\"animate\":\"css\"]({width:g+\"%\"}, c.animate);if(d===\"max\"&&this.orientation===\"horizontal\")this.range[h?\"animate\":\"css\"]({width:100-g+\"%\"},{queue:false,duration:c.animate});if(d===\"min\"&&this.orientation===\"vertical\")this.range.stop(1,1)[h?\"animate\":\"css\"]({height:g+\"%\"},c.animate);if(d===\"max\"&&this.orientation===\"vertical\")this.range[h?\"animate\":\"css\"]({height:100-g+\"%\"},{queue:false,duration:c.animate})}}});a.extend(a.ui.slider,{version:\"1.8.16\"})})(jQuery); (function(a,d){function c(){return++h}function e(){return++g}var h=0,g=0;a.widget(\"ui.tabs\",{options:{add:null,ajaxOptions:null,cache:false,cookie:null,collapsible:false,disable:null,disabled:[],enable:null,event:\"click\",fx:null,idPrefix:\"ui-tabs-\",load:null,panelTemplate:\"\\n', '\").appendTo(this.element).addClass(\"ui-slider-range ui-widget-header\"+(c.range===\"min\"c.range===\"max\"?\" ui-slider-range-\"+c.range:\"\"))}for(var i=e.length;i\"); this.handles=e.add(a(g.join(\"\")).appendTo(d.element));this.handle=this.handles.eq(0);this.handles.add(this.range).filter(\"a\").click(function(b){b.preventDefault()}).hover(function(){c.disableda(this).addClass(\"ui-state-hover\")},function(){a(this).removeClass(\"ui-state-hover\")}).focus(function(){if(c.disabled)a(this).blur();else{a(\".ui-slider .ui-state-focus\").removeClass(\"ui-state-focus\");a(this).addClass(\"ui-state-focus\")}}).blur(function(){a(this).removeClass(\"ui-state-focus\")});this.handles.each(function(b){a(this).data(\"index.ui-slider-handle\", b)});this.handles.keydown(function(b){var f=true,j=a(this).data(\"index.ui-slider-handle\"),l,o,n;if(!d.options.disabled){switch(b.keyCode){case a.ui.keyCode.HOME:case a.ui.keyCode.END:case a.ui.keyCode.PAGE_UP:case a.ui.keyCode.PAGE_DOWN:case a.ui.keyCode.UP:case a.ui.keyCode.RIGHT:case a.ui.keyCode.DOWN:case a.ui.keyCode.LEFT:f=false;if(!d._keySliding){d._keySliding=true;a(this).addClass(\"ui-state-active\");l=d._start(b,j);if(l===false)return}break}n=d.options.step;l=d.options.values&&d.options.values.length? (o=d.values(j)):(o=d.value());switch(b.keyCode){case a.ui.keyCode.HOME:o=d._valueMin();break;case a.ui.keyCode.END:o=d._valueMax();break;case a.ui.keyCode.PAGE_UP:o=d._trimAlignValue(l+(d._valueMax()-d._valueMin())/5);break;case a.ui.keyCode.PAGE_DOWN:o=d._trimAlignValue(l-(d._valueMax()-d._valueMin())/5);break;case a.ui.keyCode.UP:case a.ui.keyCode.RIGHT:if(l===d._valueMax())return;o=d._trimAlignValue(l+n);break;case a.ui.keyCode.DOWN:case a.ui.keyCode.LEFT:if(l===d._valueMin())return;o=d._trimAlignValue(l- n);break}d._slide(b,j,o);return f}}).keyup(function(b){var f=a(this).data(\"index.ui-slider-handle\");if(d._keySliding){d._keySliding=false;d._stop(b,f);d._change(b,f);a(this).removeClass(\"ui-state-active\")}});this._refreshValue();this._animateOff=false},destroy:function(){this.handles.remove();this.range.remove();this.element.removeClass(\"ui-slider ui-slider-horizontal ui-slider-vertical ui-slider-disabled ui-widget ui-widget-content ui-corner-all\").removeData(\"slider\").unbind(\".slider\");this._mouseDestroy(); return this},_mouseCapture:function(d){var c=this.options,e,h,g,i,b;if(c.disabled)return false;this.elementSize={width:this.element.outerWidth(),height:this.element.outerHeight()};this.elementOffset=this.element.offset();e=this._normValueFromMouse({x:d.pageX,y:d.pageY});h=this._valueMax()-this._valueMin()+1;i=this;this.handles.each(function(f){var j=Math.abs(e-i.values(f));if(h>j){h=j;g=a(this);b=f}});if(c.range===true&&this.values(1)===c.min){b+=1;g=a(this.handles[b])}if(this._start(d,b)===false)return false; this._mouseSliding=true;i._handleIndex=b;g.addClass(\"ui-state-active\").focus();c=g.offset();this._clickOffset=!a(d.target).parents().andSelf().is(\".ui-slider-handle\")?{left:0,top:0}:{left:d.pageX-c.left-g.width()/2,top:d.pageY-c.top-g.height()/2-(parseInt(g.css(\"borderTopWidth\"),10)0)-(parseInt(g.css(\"borderBottomWidth\"),10)0)+(parseInt(g.css(\"marginTop\"),10)0)};this.handles.hasClass(\"ui-state-hover\")this._slide(d,b,e);return this._animateOff=true},_mouseStart:function(){return true},_mouseDrag:function(d){var c= this._normValueFromMouse({x:d.pageX,y:d.pageY});this._slide(d,this._handleIndex,c);return false},_mouseStop:function(d){this.handles.removeClass(\"ui-state-active\");this._mouseSliding=false;this._stop(d,this._handleIndex);this._change(d,this._handleIndex);this._clickOffset=this._handleIndex=null;return this._animateOff=false},_detectOrientation:function(){this.orientation=this.options.orientation===\"vertical\"?\"vertical\":\"horizontal\"},_normValueFromMouse:function(d){var c;if(this.orientation===\"horizontal\"){c= this.elementSize.width;d=d.x-this.elementOffset.left-(this._clickOffset?this._clickOffset.left:0)}else{c=this.elementSize.height;d=d.y-this.elementOffset.top-(this._clickOffset?this._clickOffset.top:0)}c=d/c;if(c>1)c=1;if(c<0)c=0;if(this.orientation===\"vertical\")c=1-c;d=this._valueMax()-this._valueMin();return this._trimAlignValue(this._valueMin()+c*d)},_start:function(d,c){var e={handle:this.handles[c],value:this.value()};if(this.options.values&&this.options.values.length){e.value=this.values(c); e.values=this.values()}return this._trigger(\"start\",d,e)},_slide:function(d,c,e){var h;if(this.options.values&&this.options.values.length){h=this.values(c?0:1);if(this.options.values.length===2&&this.options.range===true&&(c===0&&e>hc===1&&e1){this.options.values[d]=this._trimAlignValue(c);this._refreshValue();this._change(null,d)}else if(arguments.length)if(a.isArray(arguments[0])){e=this.options.values;h=arguments[0];for(g=0;g=this._valueMax())return this._valueMax();var c=this.options.step>0?this.options.step:1,e=(d-this._valueMin())%c;d=d-e;if(Math.abs(e)*2>=c)d+=e>0?c:-c;return parseFloat(d.toFixed(5))},_valueMin:function(){return this.options.min},_valueMax:function(){return this.options.max},_refreshValue:function(){var d= this.options.range,c=this.options,e=this,h=!this._animateOff?c.animate:false,g,i={},b,f,j,l;if(this.options.values&&this.options.values.length)this.handles.each(function(o){g=(e.values(o)-e._valueMin())/(e._valueMax()-e._valueMin())*100;i[e.orientation===\"horizontal\"?\"left\":\"bottom\"]=g+\"%\";a(this).stop(1,1)[h?\"animate\":\"css\"](i,c.animate);if(e.options.range===true)if(e.orientation===\"horizontal\"){if(o===0)e.range.stop(1,1)[h?\"animate\":\"css\"]({left:g+\"%\"},c.animate);if(o===1)e.range[h?\"animate\":\"css\"]({width:g- b+\"%\"},{queue:false,duration:c.animate})}else{if(o===0)e.range.stop(1,1)[h?\"animate\":\"css\"]({bottom:g+\"%\"},c.animate);if(o===1)e.range[h?\"animate\":\"css\"]({height:g-b+\"%\"},{queue:false,duration:c.animate})}b=g});else{f=this.value();j=this._valueMin();l=this._valueMax();g=l!==j?(f-j)/(l-j)*100:0;i[e.orientation===\"horizontal\"?\"left\":\"bottom\"]=g+\"%\";this.handle.stop(1,1)[h?\"animate\":\"css\"](i,c.animate);if(d===\"min\"&&this.orientation===\"horizontal\")this.range.stop(1,1)[h?\"animate\":\"css\"]({width:g+\"%\"}, c.animate);if(d===\"max\"&&this.orientation===\"horizontal\")this.range[h?\"animate\":\"css\"]({width:100-g+\"%\"},{queue:false,duration:c.animate});if(d===\"min\"&&this.orientation===\"vertical\")this.range.stop(1,1)[h?\"animate\":\"css\"]({height:g+\"%\"},c.animate);if(d===\"max\"&&this.orientation===\"vertical\")this.range[h?\"animate\":\"css\"]({height:100-g+\"%\"},{queue:false,duration:c.animate})}}});a.extend(a.ui.slider,{version:\"1.8.16\"})})(jQuery); (function(a,d){function c(){return++h}function e(){return++g}var h=0,g=0;a.widget(\"ui.tabs\",{options:{add:null,ajaxOptions:null,cache:false,cookie:null,collapsible:false,disable:null,disabled:[],enable:null,event:\"click\",fx:null,idPrefix:\"ui-tabs-\",load:null,panelTemplate:\"\\n')\n",
            "Smallest ratio: ('123855(20.11.2014), D - KAY(21.11.2014), DisPaster(20.11.2014), fidlar(20.11.2014), Fyfnjkbq(25.11.2014), Gello(24.11.2014), gism666(11.02.2016), lycanthropunk(20.11.2014), mr.d4rky(20.11.2014), outspoken(13.12.2014), s1ndrom(22.11.2014), Volence(08.05.2016), Wasteland(20.11.2014), Wolftribes(09.01.2015), yxfxmx(10.11.2015)\\n', 'Z (1)\\n')\n",
            "Biggest ratio: ('-\\n', 'Cамые свежие новости о главных событиях власти,политики,спорта,культуры,происшествия,экономики,бизнеса,иносми -\\n')\n",
            "Counts of pairs: 11622112\n"
          ]
        },
        {
          "output_type": "display_data",
          "data": {
            "image/png": "[encoded data removed]",
            "text/plain": [
              "<Figure size 432x288 with 1 Axes>"
            ]
          },
          "metadata": {
            "needs_background": "light"
          }
        }
      ]
    },
    {
      "cell_type": "code",
      "source": [
        "# Clean RAM\n",
        "lines_eng = lines_rus = None"
      ],
      "metadata": {
        "id": "7UBCOLHqAxG9"
      },
      "execution_count": null,
      "outputs": []
    },
    {
      "cell_type": "markdown",
      "source": [
        "### Filter too long and too small *phrases* and bad ratio"
      ],
      "metadata": {
        "id": "NBmwl80uwlNp"
      }
    },
    {
      "cell_type": "code",
      "source": [
        "l = stats_hard_filtered[1]['len']\n",
        "min_q = np.quantile(l['eng'], 0.35)\n",
        "max_q = np.quantile(l['eng'], 0.65)\n",
        "print(f'min_q {min_q}, max_q {max_q}')"
      ],
      "metadata": {
        "colab": {
          "base_uri": "https://localhost:8080/"
        },
        "id": "ukhVnQNk-M8r",
        "outputId": "e69182b1-d2d0-4912-a1f2-18fe3f373992"
      },
      "execution_count": null,
      "outputs": [
        {
          "output_type": "stream",
          "name": "stdout",
          "text": [
            "min_q 29.0, max_q 76.0\n"
          ]
        }
      ]
    },
    {
      "cell_type": "code",
      "source": [
        "min_ratio = 1 / 2 \n",
        "max_ratio = 2\n",
        "ratious = stats_hard_filtered[1]['ratious']\n",
        "\n",
        "bad_ratio_idxs = np.where((ratious < min_ratio) |\n",
        "                           (ratious > max_ratio))[0]\n",
        "print(f'Pairs with bad ratio: {len(bad_ratio_idxs)}')"
      ],
      "metadata": {
        "colab": {
          "base_uri": "https://localhost:8080/"
        },
        "id": "X23QR04Dk56F",
        "outputId": "05da5012-62b5-4eb9-99b4-57acf940c9b0"
      },
      "execution_count": null,
      "outputs": [
        {
          "output_type": "stream",
          "name": "stdout",
          "text": [
            "Pairs with bad ratio: 715850\n"
          ]
        }
      ]
    },
    {
      "cell_type": "code",
      "source": [
        "def get_pair(idx):\n",
        "    return filtered_lines['eng'][idx], filtered_lines['rus'][idx] \n",
        "\n",
        "\n",
        "np.random.seed(42)\n",
        "print('Pairs with bad ratio examples:')\n",
        "for idx in np.random.choice(bad_ratio_idxs, 10):\n",
        "    print(get_pair(idx))"
      ],
      "metadata": {
        "colab": {
          "base_uri": "https://localhost:8080/"
        },
        "id": "oh-0rLColff2",
        "outputId": "1785378e-9391-4508-bba8-7f415807e037"
      },
      "execution_count": null,
      "outputs": [
        {
          "output_type": "stream",
          "name": "stdout",
          "text": [
            "Pairs with bad ratio examples:\n",
            "('Страницы: [1]\\n', 'Страницы: 1 ... 23 24 [25] 26 27 ... 249\\n')\n",
            "('10\\n', 'Фотографии Т-50 (10)\\n')\n",
            "('Branches and representative offices of international and foreign non-governmental organisations shall be governed in their activity by the Charters of such international and foreign non-governmental organisations, provided that such Charters are consistent with the legislation of the Republic of Kazakhstan.\\n', 'Лица, виновные в нарушении настоящего Закона, несут ответствен-ность в соответствии с законами Республики Казахстан.\\n')\n",
            "('All the cartoonists whose works will be selected for the catalogue will receive a catalogue.\\n', '3. По итогам конкурса будет издан каталог.\\n')\n",
            "('Related tags: high-tech, strategies, successful\\n', 'Related tags: деньги, успех, финансы, управление, менеджмент, саморазвитие, кийосаки, предприятие, богатство, маркетинг\\n')\n",
            "('After brilliant performance in Budapest dzhuybarsky wrestlers met in the hometown as national heroes. 11 years later the national team of Iran won again the World Cup, and an important role in this victory played пехлеваны from Dzhuybar.\\n', 'Спустя 11 лет сборная Ирана вновь выиграла чемпионат мира, и важную роль в этой победе сыграли пехлеваны из Джуйбара.\\n')\n",
            "('During the application care has to be taken to spread the adhesive in fine layer in order to glue the pearls to the wax structure without dipping them into the adhesive.\\n', 'Перлы должны прикрепляться к поверхности и не погружаться в клей.\\n')\n",
            "('Avatud:\\n', 'Источник: stragendo.ee\\n')\n",
            "(\"This data has no connection to a user's personal data in any way.\\n\", 'Мы производим сбор не являющихся личными данных о пользовании нашим сайтом в статистических целях. . Эти данные не имеют никакого отношения к личным данным пользователя.\\n')\n",
            "('12-12-2017, 13:09\\n', 'Пароль:\\n')\n"
          ]
        }
      ]
    },
    {
      "cell_type": "code",
      "source": [
        "good_ri = set(range(len(ratious))) - set(bad_ratio_idxs)\n",
        "\n",
        "ratious[list(good_ri)].max()\n",
        "for key in ['eng', 'rus']:\n",
        "    filtered_lines[key] = [sent for idx, sent in enumerate(filtered_lines[key]) if idx in good_ri]\n",
        "\n",
        "print(f'{len(bad_ratio_idxs)} elements was removed')"
      ],
      "metadata": {
        "colab": {
          "base_uri": "https://localhost:8080/"
        },
        "id": "TDX_-chr17lm",
        "outputId": "fc8dc84a-2179-41a5-aff3-00cae95de110"
      },
      "execution_count": null,
      "outputs": [
        {
          "output_type": "stream",
          "name": "stdout",
          "text": [
            "715850 elements was removed\n"
          ]
        }
      ]
    },
    {
      "cell_type": "code",
      "source": [
        "outlayers_idxs = {idx for lang in ['rus', 'eng']\n",
        "                  for idx, data in enumerate(filtered_lines[lang])\n",
        "                  if len(data) < min_q  or len(data) > max_q}\n",
        "\n",
        "#outlayers_idxs.union(set(bad_ratio_idxs))\n",
        "\n",
        "filtered_lines_filter_q = {}\n",
        "for key, data in filtered_lines.items(): \n",
        "    filtered_lines_filter_q[key] = [sent for idx, sent in enumerate(data) \n",
        "                                    if idx not in outlayers_idxs]\n",
        "\n",
        "print(f'{len(outlayers_idxs)} elements was removed')"
      ],
      "metadata": {
        "id": "fyit018cyJnP",
        "colab": {
          "base_uri": "https://localhost:8080/"
        },
        "outputId": "9b66c6ce-5c2f-4a7a-ef6d-1b802b6a20d3"
      },
      "execution_count": null,
      "outputs": [
        {
          "output_type": "stream",
          "name": "stdout",
          "text": [
            "7975256 elements was removed\n"
          ]
        }
      ]
    },
    {
      "cell_type": "code",
      "source": [
        "stat_filtered_q = get_statistics(filtered_lines_filter_q['rus'], \n",
        "                                 filtered_lines_filter_q['eng'])\n",
        "print(stat_filtered_q[0])\n",
        "plot_counts_boxplot(stat_filtered_q)"
      ],
      "metadata": {
        "colab": {
          "base_uri": "https://localhost:8080/",
          "height": 447
        },
        "id": "z1YVZFGG0_lj",
        "outputId": "6130fffa-7c99-4969-f0c0-a311f2f98475"
      },
      "execution_count": null,
      "outputs": [
        {
          "output_type": "stream",
          "name": "stdout",
          "text": [
            "Lenght statistics:\n",
            "Rus:{'mean': 46.19948509146689, 'argmin': 83, 'argmax': 450, 'min': 29, 'max': 76}\n",
            "Eng{'mean': 46.29208094422188, 'argmin': 49, 'argmax': 176, 'min': 29, 'max': 76}\n",
            "Rus / Eng {'mean': 1.0159408232277127, 'argmin': 3442, 'argmax': 2570, 'min': 0.5, 'max': 2.0}\n",
            "Pairs\n",
            "Smallest: ('4. Parishes and Communities.\\n', '4. Приходы и приходские общины.\\n')\n",
            "Longest: ('You will find the booking class on your ticket: where is the booking class?\\n', 'Класс бронирования указан в Вашем билете: где указан класс бронирования?\\n')\n",
            "Smallest ratio: ('Below is the tungsten alloy radiation shielding terms and definition.\\n', 'Радиационные термины и определения\\n')\n",
            "Biggest ratio: (\"See also: I'd , I'm , i's , ism\\n\", 'See also: chat , ghat , hat , that , what , wheat , whet , whit\\n')\n",
            "Counts of pairs: 2931006\n"
          ]
        },
        {
          "output_type": "display_data",
          "data": {
            "image/png": "[encoded data removed]",
            "text/plain": [
              "<Figure size 432x288 with 1 Axes>"
            ]
          },
          "metadata": {
            "needs_background": "light"
          }
        }
      ]
    },
    {
      "cell_type": "markdown",
      "source": [
        "GT: ('Top of performance 85 %\\n', 'Максимальная яйценоскость 85 %\\n'), interesting!\n",
        "\n",
        "Looks like non translated outlayer appears in dataset, let's filter em"
      ],
      "metadata": {
        "id": "m0-d8aE_3YTt"
      }
    },
    {
      "cell_type": "code",
      "source": [
        "russian_alph = 'абвгдеёжзийклмнопрстуфхцчшщъыьэюя'\n",
        "eng_alph = 'abcdefghigklmnopqrstuvwxyz'\n",
        "\n",
        "any_russian_ch = lambda x: any(rus_ch in x for rus_ch in russian_alph)\n",
        "any_eng_ch = lambda x: any(eng_ch in x for eng_ch in eng_alph) \n",
        "\n",
        "non_translated_idxs = {idx for idx, data in enumerate(filtered_lines_filter_q['rus'])\n",
        "                       if not any_russian_ch(data)}\n",
        "language_mixed = {idx for idx, data in enumerate(filtered_lines_filter_q['eng'])\n",
        "                       if any_russian_ch(data)}.union({\n",
        "                           idx for idx, data in enumerate(filtered_lines_filter_q['rus'])\n",
        "                           if any_eng_ch(data)\n",
        "                       })\n",
        "                    \n",
        "outlayers = non_translated_idxs.union(language_mixed)\n",
        "print(f'{len(outlayers)} non translated pairs was found')"
      ],
      "metadata": {
        "id": "zibrdCA841xO",
        "colab": {
          "base_uri": "https://localhost:8080/"
        },
        "outputId": "a2792e71-aca2-47f3-c078-c4aaec25f93f"
      },
      "execution_count": null,
      "outputs": [
        {
          "output_type": "stream",
          "name": "stdout",
          "text": [
            "1259522 non translated pairs was found\n"
          ]
        }
      ]
    },
    {
      "cell_type": "code",
      "source": [
        "def get_pair(idx):\n",
        "    return filtered_lines_filter_q['eng'][idx], filtered_lines_filter_q['rus'][idx] \n",
        "\n",
        "\n",
        "np.random.seed(42)\n",
        "print('Not translated pairs example')\n",
        "for idx in np.random.choice(list(non_translated_idxs), 10):\n",
        "    print(get_pair(idx))"
      ],
      "metadata": {
        "colab": {
          "base_uri": "https://localhost:8080/"
        },
        "id": "eOiyjoySripI",
        "outputId": "b4901681-e86e-4664-8f75-3042bffb0645"
      },
      "execution_count": null,
      "outputs": [
        {
          "output_type": "stream",
          "name": "stdout",
          "text": [
            "Not translated pairs example\n",
            "('« Reply #1 on: March 02, 2009, 04:25:53 PM »\\n', '« Reply #1 on: December 02, 2005, 11:04:34 AM »\\n')\n",
            "('#24 Encuentro desconocido (00:00:43)\\n', '#28 Encuentro desconocido (00:01:45)\\n')\n",
            "('« Reply #2 on: August 30, 2008, 10:52:13 AM »\\n', '« Reply #2 on: September 20, 2007, 08:59:31 AM »\\n')\n",
            "('This page has been generated on Saturday, Jun 4th 2016, 14:30 pm CST\\n', 'This page has been generated on Thursday, Apr 14th 2016, 22:58 pm CST\\n')\n",
            "('« Reply #19 on: August 03, 2009, 12:42:24 PM »\\n', '« Reply #3 on: January 30, 2009, 10:09:08 AM »\\n')\n",
            "('17.04.2012 15:40 (0 comments)\\n', '17.04.2012 15:40 (0 comments)\\n')\n",
            "('Poem Submitted: Tuesday, March 30, 2010\\n', 'Poem Submitted: Friday, September 11, 2015\\n')\n",
            "('This list was generated on Sun Jun 12 10:24:31 2016 QYZT.\\n', 'This list was generated on Sun Jun 12 10:01:21 2016 QYZT.\\n')\n",
            "('Play other great free collecting.\\n', 'Play other great free collecting .\\n')\n",
            "('Gare de l’Est (metro line 5)\\n', 'Gare de l’Est (direct métro ligne 5)\\n')\n"
          ]
        }
      ]
    },
    {
      "cell_type": "code",
      "source": [
        "filtered_final = {}\n",
        "for key, data in filtered_lines_filter_q.items(): \n",
        "    filtered_final[key] = [sent for idx, sent in enumerate(data) \n",
        "                                    if idx not in outlayers]\n",
        "\n",
        "print(f'{len(outlayers)} elements was removed')"
      ],
      "metadata": {
        "colab": {
          "base_uri": "https://localhost:8080/"
        },
        "id": "221htrQlsBYs",
        "outputId": "5e85f806-0163-4cb1-c92c-74376712fc9f"
      },
      "execution_count": null,
      "outputs": [
        {
          "output_type": "stream",
          "name": "stdout",
          "text": [
            "1259522 elements was removed\n"
          ]
        }
      ]
    },
    {
      "cell_type": "code",
      "source": [
        "stat_filtered_final = get_statistics(filtered_final['rus'], \n",
        "                                     filtered_final['eng'])\n",
        "print(stat_filtered_final[0])\n",
        "plot_counts_boxplot(stat_filtered_final)"
      ],
      "metadata": {
        "colab": {
          "base_uri": "https://localhost:8080/",
          "height": 447
        },
        "id": "kLvb1nIS66Z3",
        "outputId": "7fc5c338-4e7e-416a-c12a-b5dbc9fef836"
      },
      "execution_count": null,
      "outputs": [
        {
          "output_type": "stream",
          "name": "stdout",
          "text": [
            "Lenght statistics:\n",
            "Rus:{'mean': 46.955562242893144, 'argmin': 68, 'argmax': 274, 'min': 29, 'max': 76}\n",
            "Eng{'mean': 47.32550057314339, 'argmin': 35, 'argmax': 148, 'min': 29, 'max': 76}\n",
            "Rus / Eng {'mean': 1.0158406613946556, 'argmin': 1079, 'argmax': 1267, 'min': 0.5, 'max': 2.0}\n",
            "Pairs\n",
            "Smallest: ('4. Parishes and Communities.\\n', '4. Приходы и приходские общины.\\n')\n",
            "Longest: ('You will find the booking class on your ticket: where is the booking class?\\n', 'Класс бронирования указан в Вашем билете: где указан класс бронирования?\\n')\n",
            "Smallest ratio: ('Below is the tungsten alloy radiation shielding terms and definition.\\n', 'Радиационные термины и определения\\n')\n",
            "Biggest ratio: ('Cancer (3) Apply filter: Cancer\\n', 'Психическое здоровье (3) Применить фильтр: Психическое здоровье\\n')\n",
            "Counts of pairs: 1671484\n"
          ]
        },
        {
          "output_type": "display_data",
          "data": {
            "image/png": "[encoded data removed]",
            "text/plain": [
              "<Figure size 432x288 with 1 Axes>"
            ]
          },
          "metadata": {
            "needs_background": "light"
          }
        }
      ]
    },
    {
      "cell_type": "code",
      "source": [
        "plot_len_hist(stat_filtered_final)"
      ],
      "metadata": {
        "colab": {
          "base_uri": "https://localhost:8080/",
          "height": 279
        },
        "id": "aEuF0EN-JMiI",
        "outputId": "1711fc4d-ace4-437e-e738-e69574cc7828"
      },
      "execution_count": null,
      "outputs": [
        {
          "output_type": "display_data",
          "data": {
            "image/png": "[encoded data removed]",
            "text/plain": [
              "<Figure size 432x288 with 1 Axes>"
            ]
          },
          "metadata": {
            "needs_background": "light"
          }
        }
      ]
    },
    {
      "cell_type": "markdown",
      "source": [
        "Let's try to remove all pairs contains digits"
      ],
      "metadata": {
        "id": "mES_tDWwq4g5"
      }
    },
    {
      "cell_type": "code",
      "source": [
        "digits_in_sent = {idx for lang in ['rus', 'eng']\n",
        "                  for idx, data in enumerate(filtered_final[lang]) \n",
        "                  if any(char.isdigit() for char in data)}\n",
        "\n",
        "print(f'Count of pairs with digits: {len(digits_in_sent)}')"
      ],
      "metadata": {
        "colab": {
          "base_uri": "https://localhost:8080/"
        },
        "id": "svE2mTNiqHgv",
        "outputId": "3befdb58-9faa-4114-a33b-16f17e4def7b"
      },
      "execution_count": null,
      "outputs": [
        {
          "output_type": "stream",
          "name": "stdout",
          "text": [
            "Count of pairs with digits: 872012\n"
          ]
        }
      ]
    },
    {
      "cell_type": "code",
      "source": [
        "filtered_small = {}\n",
        "for key, data in filtered_final.items(): \n",
        "    filtered_small[key] = [sent for idx, sent in enumerate(data) \n",
        "                                    if idx not in digits_in_sent]\n",
        "\n",
        "print(f'{len(digits_in_sent)} elements was removed')"
      ],
      "metadata": {
        "colab": {
          "base_uri": "https://localhost:8080/"
        },
        "id": "_E-Bqxzuq_Ue",
        "outputId": "d0fa7dad-8cd4-4920-f8b7-02ab06036629"
      },
      "execution_count": null,
      "outputs": [
        {
          "output_type": "stream",
          "name": "stdout",
          "text": [
            "872012 elements was removed\n"
          ]
        }
      ]
    },
    {
      "cell_type": "code",
      "source": [
        "stat_filtered_small = get_statistics(filtered_small['rus'], \n",
        "                                     filtered_small['eng'])\n",
        "print(stat_filtered_small[0])\n",
        "plot_counts_boxplot(stat_filtered_small)"
      ],
      "metadata": {
        "colab": {
          "base_uri": "https://localhost:8080/",
          "height": 447
        },
        "id": "iSr1LDXcrQz4",
        "outputId": "d9424e70-670a-4186-a48e-9399f2dfb395"
      },
      "execution_count": null,
      "outputs": [
        {
          "output_type": "stream",
          "name": "stdout",
          "text": [
            "Lenght statistics:\n",
            "Rus:{'mean': 50.46132072167631, 'argmin': 40, 'argmax': 170, 'min': 29, 'max': 76}\n",
            "Eng{'mean': 51.42139937358657, 'argmin': 40, 'argmax': 96, 'min': 29, 'max': 76}\n",
            "Rus / Eng {'mean': 1.0039682494935338, 'argmin': 601, 'argmax': 2710, 'min': 0.5, 'max': 2.0}\n",
            "Pairs\n",
            "Smallest: ('There are two possibilities:\\n', 'Для этого есть два варианта:\\n')\n",
            "Longest: ('You will find the booking class on your ticket: where is the booking class?\\n', 'Класс бронирования указан в Вашем билете: где указан класс бронирования?\\n')\n",
            "Smallest ratio: ('Below is the tungsten alloy radiation shielding terms and definition.\\n', 'Радиационные термины и определения\\n')\n",
            "Biggest ratio: ('What is your position in this regard?\\n', 'Что говорит Библия в этом смысле, и как мне следует поступать в дальнейшем?\\n')\n",
            "Counts of pairs: 799472\n"
          ]
        },
        {
          "output_type": "display_data",
          "data": {
            "image/png": "[encoded data removed]",
            "text/plain": [
              "<Figure size 432x288 with 1 Axes>"
            ]
          },
          "metadata": {
            "needs_background": "light"
          }
        }
      ]
    },
    {
      "cell_type": "code",
      "source": [
        "plot_len_hist(stat_filtered_small)"
      ],
      "metadata": {
        "colab": {
          "base_uri": "https://localhost:8080/",
          "height": 279
        },
        "id": "cKJKSGKnrrgL",
        "outputId": "ae243dbf-21f3-47a9-d7a4-fba71a1d6ade"
      },
      "execution_count": null,
      "outputs": [
        {
          "output_type": "display_data",
          "data": {
            "image/png": "[encoded data removed]",
            "text/plain": [
              "<Figure size 432x288 with 1 Axes>"
            ]
          },
          "metadata": {
            "needs_background": "light"
          }
        }
      ]
    },
    {
      "cell_type": "markdown",
      "source": [
        "# Part where you can save/load filtered dataset"
      ],
      "metadata": {
        "id": "rUHd1nwQ7byR"
      }
    },
    {
      "cell_type": "code",
      "source": [
        "file_path = 'filtered_transl.csv'"
      ],
      "metadata": {
        "id": "Dw294POuHaaX"
      },
      "execution_count": null,
      "outputs": []
    },
    {
      "cell_type": "code",
      "source": [
        "# Write filtered data\n",
        "with open(file_path, \"w\", newline='', encoding=\"utf-8\") as out:\n",
        "        out.write(pd.DataFrame(data=filtered_small).to_csv(index=False))\n"
      ],
      "metadata": {
        "id": "KXL0kTWq7baW"
      },
      "execution_count": null,
      "outputs": []
    },
    {
      "cell_type": "code",
      "source": [
        "#@title Choose load or process filtered data \n",
        "load_data = True #@param {type:\"boolean\"}\n",
        "if not load_data:\n",
        "    lines_eng, lines_rus = filtered_lines_filter_q['eng'], filtered_lines_filter_q['rus']\n",
        "else:\n",
        "    # Load filtered data\n",
        "    df = pd.read_csv(file_path, index_col=False)\n",
        "    lines_eng, lines_rus = list(df['eng']), list(df['rus'])"
      ],
      "metadata": {
        "id": "T5V2wnZqj5Pd"
      },
      "execution_count": null,
      "outputs": []
    },
    {
      "cell_type": "code",
      "source": [
        "df"
      ],
      "metadata": {
        "colab": {
          "base_uri": "https://localhost:8080/",
          "height": 424
        },
        "id": "y8AKm26RlbjV",
        "outputId": "e215ea8a-6f49-4ee8-ca4d-451c23324605"
      },
      "execution_count": null,
      "outputs": [
        {
          "output_type": "execute_result",
          "data": {
            "text/html": [
              "<div>\n",
              "<style scoped>\n",
              "    .dataframe tbody tr th:only-of-type {\n",
              "        vertical-align: middle;\n",
              "    }\n",
              "\n",
              "    .dataframe tbody tr th {\n",
              "        vertical-align: top;\n",
              "    }\n",
              "\n",
              "    .dataframe thead th {\n",
              "        text-align: right;\n",
              "    }\n",
              "</style>\n",
              "<table border=\"1\" class=\"dataframe\">\n",
              "  <thead>\n",
              "    <tr style=\"text-align: right;\">\n",
              "      <th></th>\n",
              "      <th>rus</th>\n",
              "      <th>eng</th>\n",
              "    </tr>\n",
              "  </thead>\n",
              "  <tbody>\n",
              "    <tr>\n",
              "      <th>0</th>\n",
              "      <td>O НАС Новости Референции Контакт\\n</td>\n",
              "      <td>About us News References Contacts\\n</td>\n",
              "    </tr>\n",
              "    <tr>\n",
              "      <th>1</th>\n",
              "      <td>Ваш комфорт - наша обязанность…\\n</td>\n",
              "      <td>Your comfort, our obligation…\\n</td>\n",
              "    </tr>\n",
              "    <tr>\n",
              "      <th>2</th>\n",
              "      <td>Достаточно просто попросить нас об этом.\\n</td>\n",
              "      <td>All you need to do is just ask for it.\\n</td>\n",
              "    </tr>\n",
              "    <tr>\n",
              "      <th>3</th>\n",
              "      <td>Этот автор еще не заполнил сведений о себе.\\n</td>\n",
              "      <td>This author has not yet filled in any details.\\n</td>\n",
              "    </tr>\n",
              "    <tr>\n",
              "      <th>4</th>\n",
              "      <td>К сожалению, эта страница не найдена!\\n</td>\n",
              "      <td>Oops, This Page Could Not Be Found!\\n</td>\n",
              "    </tr>\n",
              "    <tr>\n",
              "      <th>...</th>\n",
              "      <td>...</td>\n",
              "      <td>...</td>\n",
              "    </tr>\n",
              "    <tr>\n",
              "      <th>799467</th>\n",
              "      <td>Приглашения на мероприятия дипломатических мис...</td>\n",
              "      <td>Invitations to Embassy’s an Consulate’s events...</td>\n",
              "    </tr>\n",
              "    <tr>\n",
              "      <th>799468</th>\n",
              "      <td>Доступ к другим группам влияния + +\\n</td>\n",
              "      <td>Access to members of other communities + +\\n</td>\n",
              "    </tr>\n",
              "    <tr>\n",
              "      <th>799469</th>\n",
              "      <td>Специальная цена на рекламу на сайте РСП + -\\n</td>\n",
              "      <td>Special rate for ad on RBC website + -\\n</td>\n",
              "    </tr>\n",
              "    <tr>\n",
              "      <th>799470</th>\n",
              "      <td>Специальная цена на рекламу в журнале «Деловые...</td>\n",
              "      <td>Special rate for ad in RBC magazine + -\\n</td>\n",
              "    </tr>\n",
              "    <tr>\n",
              "      <th>799471</th>\n",
              "      <td>Специальные тарифы на спонсорство + -\\n</td>\n",
              "      <td>Preferential rate for sponsorship + -\\n</td>\n",
              "    </tr>\n",
              "  </tbody>\n",
              "</table>\n",
              "<p>799472 rows × 2 columns</p>\n",
              "</div>"
            ],
            "text/plain": [
              "                                                      rus                                                eng\n",
              "0                      O НАС Новости Референции Контакт\\n                About us News References Contacts\\n\n",
              "1                       Ваш комфорт - наша обязанность…\\n                    Your comfort, our obligation…\\n\n",
              "2              Достаточно просто попросить нас об этом.\\n           All you need to do is just ask for it.\\n\n",
              "3           Этот автор еще не заполнил сведений о себе.\\n   This author has not yet filled in any details.\\n\n",
              "4                 К сожалению, эта страница не найдена!\\n              Oops, This Page Could Not Be Found!\\n\n",
              "...                                                   ...                                                ...\n",
              "799467  Приглашения на мероприятия дипломатических мис...  Invitations to Embassy’s an Consulate’s events...\n",
              "799468              Доступ к другим группам влияния + +\\n       Access to members of other communities + +\\n\n",
              "799469     Специальная цена на рекламу на сайте РСП + -\\n           Special rate for ad on RBC website + -\\n\n",
              "799470  Специальная цена на рекламу в журнале «Деловые...          Special rate for ad in RBC magazine + -\\n\n",
              "799471            Специальные тарифы на спонсорство + -\\n            Preferential rate for sponsorship + -\\n\n",
              "\n",
              "[799472 rows x 2 columns]"
            ]
          },
          "metadata": {},
          "execution_count": 34
        }
      ]
    },
    {
      "cell_type": "code",
      "source": [
        "# Just to check everything is loaded ok\n",
        "lines_eng[:5], lines_rus[:5]"
      ],
      "metadata": {
        "colab": {
          "base_uri": "https://localhost:8080/"
        },
        "id": "GJfH5FPpIwMc",
        "outputId": "5113ba9e-18d0-4267-fc29-6bbbe758808d"
      },
      "execution_count": null,
      "outputs": [
        {
          "output_type": "execute_result",
          "data": {
            "text/plain": [
              "(['About us News References Contacts\\n',\n",
              "  'Your comfort, our obligation…\\n',\n",
              "  'All you need to do is just ask for it.\\n',\n",
              "  'This author has not yet filled in any details.\\n',\n",
              "  'Oops, This Page Could Not Be Found!\\n'],\n",
              " ['O НАС Новости Референции Контакт\\n',\n",
              "  'Ваш комфорт - наша обязанность…\\n',\n",
              "  'Достаточно просто попросить нас об этом.\\n',\n",
              "  'Этот автор еще не заполнил сведений о себе.\\n',\n",
              "  'К сожалению, эта страница не найдена!\\n'])"
            ]
          },
          "metadata": {},
          "execution_count": 35
        }
      ]
    },
    {
      "cell_type": "code",
      "source": [
        "# Take only N elements from dataset\n",
        "N = 100000\n",
        "lines_eng, lines_rus = lines_eng[:N], lines_rus[:N]"
      ],
      "metadata": {
        "id": "gq6ZP3zN3k31"
      },
      "execution_count": null,
      "outputs": []
    },
    {
      "cell_type": "markdown",
      "source": [
        "# Models"
      ],
      "metadata": {
        "id": "jG4-OdSuH6CN"
      }
    },
    {
      "cell_type": "code",
      "execution_count": null,
      "metadata": {
        "id": "MZC0vd52faCk"
      },
      "outputs": [],
      "source": [
        "from torchtext.data.utils import get_tokenizer\n",
        "from torchtext.vocab import build_vocab_from_iterator\n",
        "from typing import Iterable, List\n",
        "\n",
        "\n",
        "SRC_LANGUAGE = 'eng'\n",
        "TGT_LANGUAGE = 'rus'\n",
        "\n",
        "# Place-holders\n",
        "token_transform = {}\n",
        "vocab_transform = {}\n",
        "\n",
        "\n",
        "# Create source and target language tokenizer. Make sure to install the dependencies.\n",
        "token_transform[SRC_LANGUAGE] = get_tokenizer('spacy', language='ru_core_news_sm')\n",
        "token_transform[TGT_LANGUAGE] = get_tokenizer('spacy', language='en_core_web_sm')\n",
        "\n",
        "\n",
        "# helper function to yield list of tokens\n",
        "def yield_tokens(data_iter: Iterable, language: str) -> List[str]:\n",
        "    for data_sample in data_iter:\n",
        "        yield token_transform[language](data_sample)\n",
        "\n",
        "# Define special symbols and indices\n",
        "UNK_IDX, PAD_IDX, BOS_IDX, EOS_IDX = 0, 1, 2, 3\n",
        "# Make sure the tokens are in order of their indices to properly insert them in vocab\n",
        "special_symbols = ['<unk>', '<pad>', '<bos>', '<eos>']\n",
        " \n",
        "for train_iter, ln in [(lines_eng, 'eng'), (lines_rus, 'rus')]:\n",
        "    # Create torchtext's Vocab object \n",
        "    vocab_transform[ln] = build_vocab_from_iterator(yield_tokens(train_iter, ln),\n",
        "                                                    min_freq=1,\n",
        "                                                    specials=special_symbols,\n",
        "                                                    special_first=True)\n",
        "\n",
        "# Set UNK_IDX as the default index. This index is returned when the token is not found. \n",
        "# If not set, it throws RuntimeError when the queried token is not found in the Vocabulary. \n",
        "for ln in [SRC_LANGUAGE, TGT_LANGUAGE]:\n",
        "  vocab_transform[ln].set_default_index(UNK_IDX)"
      ]
    },
    {
      "cell_type": "markdown",
      "source": [
        "## Seq2Seq Network using LSTM"
      ],
      "metadata": {
        "id": "JDj48w3bcZ1P"
      }
    },
    {
      "cell_type": "code",
      "source": [
        "class EncoderRNN(nn.Module):\n",
        "    def __init__(self, input_size, hidden_size):\n",
        "        super(EncoderRNN, self).__init__()\n",
        "        self.hidden_size = hidden_size\n",
        "\n",
        "        self.embedding = nn.Embedding(input_size, hidden_size)\n",
        "        self.gru = nn.GRU(hidden_size, hidden_size)\n",
        "\n",
        "    def forward(self, input, hidden):\n",
        "        embedded = self.embedding(input).view(1, 1, -1)\n",
        "        output = embedded\n",
        "        output, hidden = self.gru(output, hidden)\n",
        "        return output, hidden\n",
        "\n",
        "    def initHidden(self):\n",
        "        return torch.zeros(1, 1, self.hidden_size, device=device)"
      ],
      "metadata": {
        "id": "_TEEuFdhciRd"
      },
      "execution_count": null,
      "outputs": []
    },
    {
      "cell_type": "code",
      "source": [
        "class AttnDecoderRNN(nn.Module):\n",
        "    def __init__(self, hidden_size, output_size, dropout_p=0.1, max_length=MAX_LENGTH):\n",
        "        super(AttnDecoderRNN, self).__init__()\n",
        "        self.hidden_size = hidden_size\n",
        "        self.output_size = output_size\n",
        "        self.dropout_p = dropout_p\n",
        "        self.max_length = max_length\n",
        "\n",
        "        self.embedding = nn.Embedding(self.output_size, self.hidden_size)\n",
        "        self.attn = nn.Linear(self.hidden_size * 2, self.max_length)\n",
        "        self.attn_combine = nn.Linear(self.hidden_size * 2, self.hidden_size)\n",
        "        self.dropout = nn.Dropout(self.dropout_p)\n",
        "        self.gru = nn.GRU(self.hidden_size, self.hidden_size)\n",
        "        self.out = nn.Linear(self.hidden_size, self.output_size)\n",
        "\n",
        "    def forward(self, input, hidden, encoder_outputs):\n",
        "        embedded = self.embedding(input).view(1, 1, -1)\n",
        "        embedded = self.dropout(embedded)\n",
        "\n",
        "        attn_weights = F.softmax(\n",
        "            self.attn(torch.cat((embedded[0], hidden[0]), 1)), dim=1)\n",
        "        attn_applied = torch.bmm(attn_weights.unsqueeze(0),\n",
        "                                 encoder_outputs.unsqueeze(0))\n",
        "\n",
        "        output = torch.cat((embedded[0], attn_applied[0]), 1)\n",
        "        output = self.attn_combine(output).unsqueeze(0)\n",
        "\n",
        "        output = F.relu(output)\n",
        "        output, hidden = self.gru(output, hidden)\n",
        "\n",
        "        output = F.log_softmax(self.out(output[0]), dim=1)\n",
        "        return output, hidden, attn_weights\n",
        "\n",
        "    def initHidden(self):\n",
        "        return torch.zeros(1, 1, self.hidden_size, device=device)"
      ],
      "metadata": {
        "id": "gplYekfRcuny"
      },
      "execution_count": null,
      "outputs": []
    },
    {
      "cell_type": "code",
      "source": [
        "def indexesFromSentence(lang, sentence):\n",
        "    return [lang.word2index[word] for word in sentence.split(' ')]\n",
        "\n",
        "\n",
        "def tensorFromSentence(lang, sentence):\n",
        "    indexes = indexesFromSentence(lang, sentence)\n",
        "    indexes.append(EOS_token)\n",
        "    return torch.tensor(indexes, dtype=torch.long, device=device).view(-1, 1)\n",
        "\n",
        "\n",
        "def tensorsFromPair(pair):\n",
        "    input_tensor = tensorFromSentence(input_lang, pair[0])\n",
        "    target_tensor = tensorFromSentence(output_lang, pair[1])\n",
        "    return (input_tensor, target_tensor)"
      ],
      "metadata": {
        "id": "rm7O2Y8rc-sM"
      },
      "execution_count": null,
      "outputs": []
    },
    {
      "cell_type": "code",
      "source": [
        "teacher_forcing_ratio = 0.5\n",
        "\n",
        "\n",
        "def train(input_tensor, target_tensor, encoder, decoder, encoder_optimizer, decoder_optimizer, criterion, max_length=MAX_LENGTH):\n",
        "    encoder_hidden = encoder.initHidden()\n",
        "\n",
        "    encoder_optimizer.zero_grad()\n",
        "    decoder_optimizer.zero_grad()\n",
        "\n",
        "    input_length = input_tensor.size(0)\n",
        "    target_length = target_tensor.size(0)\n",
        "\n",
        "    encoder_outputs = torch.zeros(max_length, encoder.hidden_size, device=device)\n",
        "\n",
        "    loss = 0\n",
        "\n",
        "    for ei in range(input_length):\n",
        "        encoder_output, encoder_hidden = encoder(\n",
        "            input_tensor[ei], encoder_hidden)\n",
        "        encoder_outputs[ei] = encoder_output[0, 0]\n",
        "\n",
        "    decoder_input = torch.tensor([[SOS_token]], device=device)\n",
        "\n",
        "    decoder_hidden = encoder_hidden\n",
        "\n",
        "    use_teacher_forcing = True if random.random() < teacher_forcing_ratio else False\n",
        "\n",
        "    if use_teacher_forcing:\n",
        "        # Teacher forcing: Feed the target as the next input\n",
        "        for di in range(target_length):\n",
        "            decoder_output, decoder_hidden, decoder_attention = decoder(\n",
        "                decoder_input, decoder_hidden, encoder_outputs)\n",
        "            loss += criterion(decoder_output, target_tensor[di])\n",
        "            decoder_input = target_tensor[di]  # Teacher forcing\n",
        "\n",
        "    else:\n",
        "        # Without teacher forcing: use its own predictions as the next input\n",
        "        for di in range(target_length):\n",
        "            decoder_output, decoder_hidden, decoder_attention = decoder(\n",
        "                decoder_input, decoder_hidden, encoder_outputs)\n",
        "            topv, topi = decoder_output.topk(1)\n",
        "            decoder_input = topi.squeeze().detach()  # detach from history as input\n",
        "\n",
        "            loss += criterion(decoder_output, target_tensor[di])\n",
        "            if decoder_input.item() == EOS_token:\n",
        "                break\n",
        "\n",
        "    loss.backward()\n",
        "\n",
        "    encoder_optimizer.step()\n",
        "    decoder_optimizer.step()\n",
        "\n",
        "    return loss.item() / target_length"
      ],
      "metadata": {
        "id": "Wg8k8Y3adIi1"
      },
      "execution_count": null,
      "outputs": []
    },
    {
      "cell_type": "code",
      "source": [
        "import time\n",
        "import math\n",
        "\n",
        "\n",
        "def asMinutes(s):\n",
        "    m = math.floor(s / 60)\n",
        "    s -= m * 60\n",
        "    return '%dm %ds' % (m, s)\n",
        "\n",
        "\n",
        "def timeSince(since, percent):\n",
        "    now = time.time()\n",
        "    s = now - since\n",
        "    es = s / (percent)\n",
        "    rs = es - s\n",
        "    return '%s (- %s)' % (asMinutes(s), asMinutes(rs))"
      ],
      "metadata": {
        "id": "RbZ5vb3TdOlA"
      },
      "execution_count": null,
      "outputs": []
    },
    {
      "cell_type": "markdown",
      "metadata": {
        "id": "3Dl2kG3sfaCm"
      },
      "source": [
        "Seq2Seq Network using Transformer\n",
        "---------------------------------\n",
        "\n",
        "Transformer is a Seq2Seq model introduced in `“Attention is all you\n",
        "need” <https://papers.nips.cc/paper/2017/file/3f5ee243547dee91fbd053c1c4a845aa-Paper.pdf>`__\n",
        "paper for solving machine translation tasks. \n",
        "Below, we will create a Seq2Seq network that uses Transformer. The network\n",
        "consists of three parts. First part is the embedding layer. This layer converts tensor of input indices\n",
        "into corresponding tensor of input embeddings. These embedding are further augmented with positional\n",
        "encodings to provide position information of input tokens to the model. The second part is the \n",
        "actual `Transformer <https://pytorch.org/docs/stable/generated/torch.nn.Transformer.html>`__ model. \n",
        "Finally, the output of Transformer model is passed through linear layer\n",
        "that give un-normalized probabilities for each token in the target language. \n",
        "\n",
        "\n"
      ]
    },
    {
      "cell_type": "code",
      "execution_count": null,
      "metadata": {
        "id": "zmVDYNWsfaCp"
      },
      "outputs": [],
      "source": [
        "from torch import Tensor\n",
        "import torch\n",
        "import torch.nn as nn\n",
        "from torch.nn import Transformer\n",
        "import math\n",
        "DEVICE = torch.device('cuda' if torch.cuda.is_available() else 'cpu')\n",
        "\n",
        "# helper Module that adds positional encoding to the token embedding to introduce a notion of word order.\n",
        "class PositionalEncoding(nn.Module):\n",
        "    def __init__(self,\n",
        "                 emb_size: int,\n",
        "                 dropout: float,\n",
        "                 maxlen: int = 5000):\n",
        "        super(PositionalEncoding, self).__init__()\n",
        "        den = torch.exp(- torch.arange(0, emb_size, 2)* math.log(10000) / emb_size)\n",
        "        pos = torch.arange(0, maxlen).reshape(maxlen, 1)\n",
        "        pos_embedding = torch.zeros((maxlen, emb_size))\n",
        "        pos_embedding[:, 0::2] = torch.sin(pos * den)\n",
        "        pos_embedding[:, 1::2] = torch.cos(pos * den)\n",
        "        pos_embedding = pos_embedding.unsqueeze(-2)\n",
        "\n",
        "        self.dropout = nn.Dropout(dropout)\n",
        "        self.register_buffer('pos_embedding', pos_embedding)\n",
        "\n",
        "    def forward(self, token_embedding: Tensor):\n",
        "        return self.dropout(token_embedding + self.pos_embedding[:token_embedding.size(0), :])\n",
        "\n",
        "# helper Module to convert tensor of input indices into corresponding tensor of token embeddings\n",
        "class TokenEmbedding(nn.Module):\n",
        "    def __init__(self, vocab_size: int, emb_size):\n",
        "        super(TokenEmbedding, self).__init__()\n",
        "        self.embedding = nn.Embedding(vocab_size, emb_size)\n",
        "        self.emb_size = emb_size\n",
        "\n",
        "    def forward(self, tokens: Tensor):\n",
        "        return self.embedding(tokens.long()) * math.sqrt(self.emb_size)\n",
        "\n",
        "# Seq2Seq Network \n",
        "class Seq2SeqTransformer(nn.Module):\n",
        "    def __init__(self,\n",
        "                 num_encoder_layers: int,\n",
        "                 num_decoder_layers: int,\n",
        "                 emb_size: int,\n",
        "                 nhead: int,\n",
        "                 src_vocab_size: int,\n",
        "                 tgt_vocab_size: int,\n",
        "                 dim_feedforward: int = 512,\n",
        "                 dropout: float = 0.1):\n",
        "        super(Seq2SeqTransformer, self).__init__()\n",
        "        self.transformer = Transformer(d_model=emb_size,\n",
        "                                       nhead=nhead,\n",
        "                                       num_encoder_layers=num_encoder_layers,\n",
        "                                       num_decoder_layers=num_decoder_layers,\n",
        "                                       dim_feedforward=dim_feedforward,\n",
        "                                       dropout=dropout)\n",
        "        self.generator = nn.Linear(emb_size, tgt_vocab_size)\n",
        "        self.src_tok_emb = TokenEmbedding(src_vocab_size, emb_size)\n",
        "        self.tgt_tok_emb = TokenEmbedding(tgt_vocab_size, emb_size)\n",
        "        self.positional_encoding = PositionalEncoding(\n",
        "            emb_size, dropout=dropout)\n",
        "\n",
        "    def forward(self,\n",
        "                src: Tensor,\n",
        "                trg: Tensor,\n",
        "                src_mask: Tensor,\n",
        "                tgt_mask: Tensor,\n",
        "                src_padding_mask: Tensor,\n",
        "                tgt_padding_mask: Tensor,\n",
        "                memory_key_padding_mask: Tensor):\n",
        "        src_emb = self.positional_encoding(self.src_tok_emb(src))\n",
        "        tgt_emb = self.positional_encoding(self.tgt_tok_emb(trg))\n",
        "        outs = self.transformer(src_emb, tgt_emb, src_mask, tgt_mask, None, \n",
        "                                src_padding_mask, tgt_padding_mask, memory_key_padding_mask)\n",
        "        return self.generator(outs)\n",
        "\n",
        "    def encode(self, src: Tensor, src_mask: Tensor):\n",
        "        return self.transformer.encoder(self.positional_encoding(\n",
        "                            self.src_tok_emb(src)), src_mask)\n",
        "\n",
        "    def decode(self, tgt: Tensor, memory: Tensor, tgt_mask: Tensor):\n",
        "        return self.transformer.decoder(self.positional_encoding(\n",
        "                          self.tgt_tok_emb(tgt)), memory,\n",
        "                          tgt_mask)"
      ]
    },
    {
      "cell_type": "markdown",
      "metadata": {
        "id": "LA03OmFAfaCs"
      },
      "source": [
        "During training, we need a subsequent word mask that will prevent model to look into\n",
        "the future words when making predictions. We will also need masks to hide\n",
        "source and target padding tokens. Below, let's define a function that will take care of both. \n",
        "\n",
        "\n"
      ]
    },
    {
      "cell_type": "code",
      "execution_count": null,
      "metadata": {
        "id": "AJ3cZevUfaCt"
      },
      "outputs": [],
      "source": [
        "def generate_square_subsequent_mask(sz):\n",
        "    mask = (torch.triu(torch.ones((sz, sz), device=DEVICE)) == 1).transpose(0, 1)\n",
        "    mask = mask.float().masked_fill(mask == 0, float('-inf')).masked_fill(mask == 1, float(0.0))\n",
        "    return mask\n",
        "\n",
        "\n",
        "def create_mask(src, tgt):\n",
        "    src_seq_len = src.shape[0]\n",
        "    tgt_seq_len = tgt.shape[0]\n",
        "\n",
        "    tgt_mask = generate_square_subsequent_mask(tgt_seq_len)\n",
        "    src_mask = torch.zeros((src_seq_len, src_seq_len),device=DEVICE).type(torch.bool)\n",
        "\n",
        "    src_padding_mask = (src == PAD_IDX).transpose(0, 1)\n",
        "    tgt_padding_mask = (tgt == PAD_IDX).transpose(0, 1)\n",
        "    return src_mask, tgt_mask, src_padding_mask, tgt_padding_mask"
      ]
    },
    {
      "cell_type": "markdown",
      "metadata": {
        "id": "6jsbCwW5faCw"
      },
      "source": [
        "Let's now define the parameters of our model and instantiate the same. Below, we also \n",
        "define our loss function which is the cross-entropy loss and the optmizer used for training.\n",
        "\n",
        "\n"
      ]
    },
    {
      "cell_type": "code",
      "execution_count": null,
      "metadata": {
        "id": "Zi2UODBFfaCy"
      },
      "outputs": [],
      "source": [
        "from torch.optim.lr_scheduler import ExponentialLR\n",
        "torch.manual_seed(0)\n",
        "\n",
        "SRC_VOCAB_SIZE = len(vocab_transform[SRC_LANGUAGE])\n",
        "TGT_VOCAB_SIZE = len(vocab_transform[TGT_LANGUAGE])\n",
        "EMB_SIZE = 512\n",
        "NHEAD = 8\n",
        "FFN_HID_DIM = 512\n",
        "BATCH_SIZE = 64 \n",
        "NUM_ENCODER_LAYERS = 3\n",
        "NUM_DECODER_LAYERS = 3\n",
        "\n",
        "transformer = Seq2SeqTransformer(NUM_ENCODER_LAYERS, NUM_DECODER_LAYERS, EMB_SIZE, \n",
        "                                 NHEAD, SRC_VOCAB_SIZE, TGT_VOCAB_SIZE, FFN_HID_DIM)\n",
        "\n",
        "for p in transformer.parameters():\n",
        "    if p.dim() > 1:\n",
        "        nn.init.xavier_uniform_(p)\n",
        "\n",
        "transformer = transformer.to(DEVICE)\n",
        "\n",
        "loss_fn = torch.nn.CrossEntropyLoss(ignore_index=PAD_IDX)\n",
        "\n",
        "optimizer = torch.optim.Adam(transformer.parameters(), lr=0.0001, betas=(0.9, 0.98), eps=1e-7)\n",
        "scheduler = ExponentialLR(optimizer, gamma=0.99) "
      ]
    },
    {
      "cell_type": "markdown",
      "metadata": {
        "id": "F_kIa1tkfaCz"
      },
      "source": [
        "Collation\n",
        "---------\n",
        "\n",
        "As seen in the ``Data Sourcing and Processing`` section, our data iterator yields a pair of raw strings. \n",
        "We need to convert these string pairs into the batched tensors that can be processed by our ``Seq2Seq`` network \n",
        "defined previously. Below we define our collate function that convert batch of raw strings into batch tensors that\n",
        "can be fed directly into our model.   \n",
        "\n",
        "\n"
      ]
    },
    {
      "cell_type": "code",
      "execution_count": null,
      "metadata": {
        "id": "cwNDu-befaC0"
      },
      "outputs": [],
      "source": [
        "from torch.nn.utils.rnn import pad_sequence\n",
        "\n",
        "# helper function to club together sequential operations\n",
        "def sequential_transforms(*transforms):\n",
        "    def func(txt_input):\n",
        "        for transform in transforms:\n",
        "            txt_input = transform(txt_input)\n",
        "        return txt_input\n",
        "    return func\n",
        "\n",
        "# function to add BOS/EOS and create tensor for input sequence indices\n",
        "def tensor_transform(token_ids: List[int]):\n",
        "    return torch.cat((torch.tensor([BOS_IDX]), \n",
        "                      torch.tensor(token_ids), \n",
        "                      torch.tensor([EOS_IDX])))\n",
        "\n",
        "# src and tgt language text transforms to convert raw strings into tensors indices\n",
        "text_transform = {}\n",
        "for ln in [SRC_LANGUAGE, TGT_LANGUAGE]:\n",
        "    text_transform[ln] = sequential_transforms(token_transform[ln], #Tokenization\n",
        "                                               vocab_transform[ln], #Numericalization\n",
        "                                               tensor_transform) # Add BOS/EOS and create tensor\n",
        "\n",
        "\n",
        "# function to collate data samples into batch tesors\n",
        "def collate_fn(batch):\n",
        "    src_batch, tgt_batch = [], []\n",
        "    for src_sample, tgt_sample in batch:\n",
        "        src_batch.append(text_transform[SRC_LANGUAGE](src_sample.rstrip(\"\\n\")))\n",
        "        tgt_batch.append(text_transform[TGT_LANGUAGE](tgt_sample.rstrip(\"\\n\")))\n",
        "\n",
        "    src_batch = pad_sequence(src_batch, padding_value=PAD_IDX)\n",
        "    tgt_batch = pad_sequence(tgt_batch, padding_value=PAD_IDX)\n",
        "    return src_batch, tgt_batch"
      ]
    },
    {
      "cell_type": "markdown",
      "metadata": {
        "id": "69SaTchafaC2"
      },
      "source": [
        "Let's define training and evaluation loop that will be called for each \n",
        "epoch.\n",
        "\n",
        "\n"
      ]
    },
    {
      "cell_type": "markdown",
      "source": [
        "Define iterators"
      ],
      "metadata": {
        "id": "QpSBiO7245G5"
      }
    },
    {
      "cell_type": "code",
      "source": [
        "N_train = int(N * 0.9)\n",
        "\n",
        "complete_ds = list(zip(lines_eng, lines_rus))\n",
        "train_iter = complete_ds[:N_train]\n",
        "test_iter = complete_ds[N_train:] \n",
        "N_train"
      ],
      "metadata": {
        "id": "ga1v85o647Kc",
        "colab": {
          "base_uri": "https://localhost:8080/"
        },
        "outputId": "9ae59357-14a9-4842-904d-720e2f390e3c"
      },
      "execution_count": null,
      "outputs": [
        {
          "output_type": "execute_result",
          "data": {
            "text/plain": [
              "90000"
            ]
          },
          "metadata": {},
          "execution_count": 11
        }
      ]
    },
    {
      "cell_type": "code",
      "execution_count": null,
      "metadata": {
        "id": "6_A7qllEfaC3"
      },
      "outputs": [],
      "source": [
        "from torch.utils.data import DataLoader\n",
        "from tqdm import tqdm\n",
        "\n",
        "def train_epoch(model, optimizer):\n",
        "    model.train()\n",
        "    losses = 0\n",
        "    train_dataloader = DataLoader(train_iter, batch_size=BATCH_SIZE, collate_fn=collate_fn)\n",
        "\n",
        "    with tqdm(train_dataloader) as t:\n",
        "        for src, tgt in t:\n",
        "            src = src.to(DEVICE)\n",
        "            tgt = tgt.to(DEVICE)\n",
        "\n",
        "            tgt_input = tgt[:-1, :]\n",
        "\n",
        "            src_mask, tgt_mask, src_padding_mask, tgt_padding_mask = create_mask(src, tgt_input)\n",
        "\n",
        "            logits = model(src, tgt_input, src_mask, tgt_mask,src_padding_mask, tgt_padding_mask, src_padding_mask)\n",
        "\n",
        "            optimizer.zero_grad()\n",
        "\n",
        "            tgt_out = tgt[1:, :]\n",
        "            loss = loss_fn(logits.reshape(-1, logits.shape[-1]), tgt_out.reshape(-1))\n",
        "            loss.backward()\n",
        "\n",
        "            optimizer.step()\n",
        "            losses += loss.item()\n",
        "            t.set_description(f'Loss: {loss.item()}')\n",
        "\n",
        "    return losses / len(train_dataloader)\n",
        "\n",
        "\n",
        "def evaluate(model):\n",
        "    model.eval()\n",
        "    losses = 0\n",
        "\n",
        "    val_dataloader = DataLoader(test_iter, batch_size=BATCH_SIZE,\n",
        "                                collate_fn=collate_fn)\n",
        "\n",
        "    for src, tgt in val_dataloader:\n",
        "        src = src.to(DEVICE)\n",
        "        tgt = tgt.to(DEVICE)\n",
        "\n",
        "        tgt_input = tgt[:-1, :]\n",
        "\n",
        "        src_mask, tgt_mask, src_padding_mask, tgt_padding_mask = create_mask(src, tgt_input)\n",
        "\n",
        "        logits = model(src, tgt_input, src_mask, tgt_mask,src_padding_mask, tgt_padding_mask, src_padding_mask)\n",
        "        \n",
        "        tgt_out = tgt[1:, :]\n",
        "        loss = loss_fn(logits.reshape(-1, logits.shape[-1]), tgt_out.reshape(-1))\n",
        "        losses += loss.item()\n",
        "\n",
        "    return losses / len(val_dataloader)"
      ]
    },
    {
      "cell_type": "markdown",
      "metadata": {
        "id": "kjpylHscfaC4"
      },
      "source": [
        "Now we have all the ingredients to train our model. Let's do it!\n",
        "\n",
        "\n"
      ]
    },
    {
      "cell_type": "code",
      "execution_count": null,
      "metadata": {
        "id": "OS_M1IcFfaC6",
        "colab": {
          "base_uri": "https://localhost:8080/"
        },
        "outputId": "97b6e5be-9a88-4640-ac4c-d4310c5f92a2"
      },
      "outputs": [
        {
          "output_type": "stream",
          "name": "stderr",
          "text": [
            "Loss: 7.437880039215088: 100%|██████████| 1407/1407 [08:28<00:00,  2.76it/s]\n"
          ]
        },
        {
          "output_type": "stream",
          "name": "stdout",
          "text": [
            "Epoch: 1, Train loss: 6.908, Val loss: 7.172, Epoch time = 508.925s\n"
          ]
        },
        {
          "output_type": "stream",
          "name": "stderr",
          "text": [
            "Loss: 6.653111934661865: 100%|██████████| 1407/1407 [08:27<00:00,  2.77it/s]\n"
          ]
        },
        {
          "output_type": "stream",
          "name": "stdout",
          "text": [
            "Epoch: 2, Train loss: 5.880, Val loss: 6.934, Epoch time = 507.990s\n"
          ]
        },
        {
          "output_type": "stream",
          "name": "stderr",
          "text": [
            "Loss: 6.099935531616211: 100%|██████████| 1407/1407 [08:27<00:00,  2.77it/s]\n"
          ]
        },
        {
          "output_type": "stream",
          "name": "stdout",
          "text": [
            "Epoch: 3, Train loss: 5.364, Val loss: 6.864, Epoch time = 507.735s\n"
          ]
        },
        {
          "output_type": "stream",
          "name": "stderr",
          "text": [
            "Loss: 5.528937816619873: 100%|██████████| 1407/1407 [08:28<00:00,  2.77it/s]\n"
          ]
        },
        {
          "output_type": "stream",
          "name": "stdout",
          "text": [
            "Epoch: 4, Train loss: 4.972, Val loss: 6.838, Epoch time = 508.075s\n"
          ]
        },
        {
          "output_type": "stream",
          "name": "stderr",
          "text": [
            "Loss: 5.236104488372803: 100%|██████████| 1407/1407 [08:30<00:00,  2.76it/s]\n"
          ]
        },
        {
          "output_type": "stream",
          "name": "stdout",
          "text": [
            "Epoch: 5, Train loss: 4.657, Val loss: 6.766, Epoch time = 510.297s\n"
          ]
        },
        {
          "output_type": "stream",
          "name": "stderr",
          "text": [
            "Loss: 4.919432640075684: 100%|██████████| 1407/1407 [08:30<00:00,  2.76it/s]\n"
          ]
        },
        {
          "output_type": "stream",
          "name": "stdout",
          "text": [
            "Epoch: 6, Train loss: 4.393, Val loss: 6.679, Epoch time = 510.561s\n"
          ]
        },
        {
          "output_type": "stream",
          "name": "stderr",
          "text": [
            "Loss: 4.658354759216309: 100%|██████████| 1407/1407 [08:30<00:00,  2.76it/s]\n"
          ]
        },
        {
          "output_type": "stream",
          "name": "stdout",
          "text": [
            "Epoch: 7, Train loss: 4.169, Val loss: 6.659, Epoch time = 510.627s\n"
          ]
        },
        {
          "output_type": "stream",
          "name": "stderr",
          "text": [
            "Loss: 4.420555114746094: 100%|██████████| 1407/1407 [08:30<00:00,  2.76it/s]\n"
          ]
        },
        {
          "output_type": "stream",
          "name": "stdout",
          "text": [
            "Epoch: 8, Train loss: 3.977, Val loss: 6.642, Epoch time = 510.699s\n"
          ]
        },
        {
          "output_type": "stream",
          "name": "stderr",
          "text": [
            "Loss: 4.295312404632568: 100%|██████████| 1407/1407 [08:30<00:00,  2.75it/s]\n"
          ]
        },
        {
          "output_type": "stream",
          "name": "stdout",
          "text": [
            "Epoch: 9, Train loss: 3.808, Val loss: 6.638, Epoch time = 510.903s\n"
          ]
        },
        {
          "output_type": "stream",
          "name": "stderr",
          "text": [
            "Loss: 4.038195610046387: 100%|██████████| 1407/1407 [08:30<00:00,  2.75it/s]\n"
          ]
        },
        {
          "output_type": "stream",
          "name": "stdout",
          "text": [
            "Epoch: 10, Train loss: 3.657, Val loss: 6.679, Epoch time = 510.753s\n"
          ]
        },
        {
          "output_type": "stream",
          "name": "stderr",
          "text": [
            "Loss: 3.890901803970337: 100%|██████████| 1407/1407 [08:30<00:00,  2.76it/s]\n"
          ]
        },
        {
          "output_type": "stream",
          "name": "stdout",
          "text": [
            "Epoch: 11, Train loss: 3.523, Val loss: 6.773, Epoch time = 510.696s\n"
          ]
        },
        {
          "output_type": "stream",
          "name": "stderr",
          "text": [
            "Loss: 3.823850393295288: 100%|██████████| 1407/1407 [08:30<00:00,  2.75it/s]\n"
          ]
        },
        {
          "output_type": "stream",
          "name": "stdout",
          "text": [
            "Epoch: 12, Train loss: 3.404, Val loss: 6.846, Epoch time = 510.884s\n"
          ]
        },
        {
          "output_type": "stream",
          "name": "stderr",
          "text": [
            "Loss: 3.6336758136749268: 100%|██████████| 1407/1407 [08:31<00:00,  2.75it/s]\n"
          ]
        },
        {
          "output_type": "stream",
          "name": "stdout",
          "text": [
            "Epoch: 13, Train loss: 3.291, Val loss: 7.028, Epoch time = 511.612s\n"
          ]
        },
        {
          "output_type": "stream",
          "name": "stderr",
          "text": [
            "Loss: 3.481980800628662: 100%|██████████| 1407/1407 [08:31<00:00,  2.75it/s]\n"
          ]
        },
        {
          "output_type": "stream",
          "name": "stdout",
          "text": [
            "Epoch: 14, Train loss: 3.190, Val loss: 7.228, Epoch time = 511.956s\n"
          ]
        },
        {
          "output_type": "stream",
          "name": "stderr",
          "text": [
            "Loss: 3.4601991176605225: 100%|██████████| 1407/1407 [08:32<00:00,  2.75it/s]\n"
          ]
        },
        {
          "output_type": "stream",
          "name": "stdout",
          "text": [
            "Epoch: 15, Train loss: 3.100, Val loss: 7.111, Epoch time = 512.285s\n"
          ]
        },
        {
          "output_type": "stream",
          "name": "stderr",
          "text": [
            "Loss: 3.3359272480010986: 100%|██████████| 1407/1407 [08:31<00:00,  2.75it/s]\n"
          ]
        },
        {
          "output_type": "stream",
          "name": "stdout",
          "text": [
            "Epoch: 16, Train loss: 3.012, Val loss: 6.949, Epoch time = 511.764s\n"
          ]
        },
        {
          "output_type": "stream",
          "name": "stderr",
          "text": [
            "Loss: 3.338839054107666: 100%|██████████| 1407/1407 [08:31<00:00,  2.75it/s]\n"
          ]
        },
        {
          "output_type": "stream",
          "name": "stdout",
          "text": [
            "Epoch: 17, Train loss: 2.925, Val loss: 6.891, Epoch time = 511.369s\n"
          ]
        },
        {
          "output_type": "stream",
          "name": "stderr",
          "text": [
            "Loss: 3.165442705154419: 100%|██████████| 1407/1407 [08:29<00:00,  2.76it/s]\n"
          ]
        },
        {
          "output_type": "stream",
          "name": "stdout",
          "text": [
            "Epoch: 18, Train loss: 2.847, Val loss: 6.968, Epoch time = 509.465s\n"
          ]
        }
      ],
      "source": [
        "import torch\n",
        "from timeit import default_timer as timer\n",
        "from torch.utils.tensorboard import SummaryWriter\n",
        "NUM_EPOCHS = 18\n",
        "\n",
        "sw = SummaryWriter()\n",
        "for epoch in range(1, NUM_EPOCHS+1):\n",
        "    start_time = timer()\n",
        "    train_loss = train_epoch(transformer, optimizer)\n",
        "    end_time = timer()\n",
        "    val_loss = evaluate(transformer)\n",
        "    print((f\"Epoch: {epoch}, Train loss: {train_loss:.3f}, Val loss: {val_loss:.3f}, \"f\"Epoch time = {(end_time - start_time):.3f}s\"))\n",
        "\n",
        "    sw.add_scalar('Loss/train', train_loss)\n",
        "    sw.add_scalar('Loss/val', val_loss)\n",
        "    scheduler.step()\n",
        "\n",
        "# Save last ckpt\n",
        "PATH = 'transformer.ckpt'\n",
        "torch.save(transformer.state_dict(), PATH)\n",
        "\n",
        "\n",
        "\n",
        "# function to generate output sequence using greedy algorithm \n",
        "def greedy_decode(model, src, src_mask, max_len, start_symbol):\n",
        "    src = src.to(DEVICE)\n",
        "    src_mask = src_mask.to(DEVICE)\n",
        "\n",
        "    memory = model.encode(src, src_mask)\n",
        "    ys = torch.ones(1, 1).fill_(start_symbol).type(torch.long).to(DEVICE)\n",
        "    for i in range(max_len-1):\n",
        "        memory = memory.to(DEVICE)\n",
        "        tgt_mask = (generate_square_subsequent_mask(ys.size(0))\n",
        "                    .type(torch.bool)).to(DEVICE)\n",
        "        out = model.decode(ys, memory, tgt_mask)\n",
        "        out = out.transpose(0, 1)\n",
        "        prob = model.generator(out[:, -1])\n",
        "        _, next_word = torch.max(prob, dim=1)\n",
        "        next_word = next_word.item()\n",
        "\n",
        "        ys = torch.cat([ys,\n",
        "                        torch.ones(1, 1).type_as(src.data).fill_(next_word)], dim=0)\n",
        "        if next_word == EOS_IDX:\n",
        "            break\n",
        "    return ys\n",
        "\n",
        "\n",
        "# actual function to translate input sentence into target language\n",
        "def translate(model: torch.nn.Module, src_sentence: str):\n",
        "    model.eval()\n",
        "    src = text_transform[SRC_LANGUAGE](src_sentence).view(-1, 1)\n",
        "    num_tokens = src.shape[0]\n",
        "    src_mask = (torch.zeros(num_tokens, num_tokens)).type(torch.bool)\n",
        "    tgt_tokens = greedy_decode(\n",
        "        model,  src, src_mask, max_len=num_tokens + 5, start_symbol=BOS_IDX).flatten()\n",
        "    return \" \".join(vocab_transform[TGT_LANGUAGE].lookup_tokens(list(tgt_tokens.cpu().numpy()))).replace(\"<bos>\", \"\").replace(\"<eos>\", \"\")"
      ]
    },
    {
      "cell_type": "code",
      "execution_count": null,
      "metadata": {
        "id": "mlSa0OcFfaC7",
        "colab": {
          "base_uri": "https://localhost:8080/"
        },
        "outputId": "3255c0b5-66ae-45c5-b510-e520de994360"
      },
      "outputs": [
        {
          "output_type": "stream",
          "name": "stdout",
          "text": [
            " Я люблю вас \n"
          ]
        }
      ],
      "source": [
        "print(translate(transformer, \"I love you\"))"
      ]
    },
    {
      "cell_type": "code",
      "source": [
        "print(translate(transformer, \"This is success\"))"
      ],
      "metadata": {
        "colab": {
          "base_uri": "https://localhost:8080/"
        },
        "id": "q64guJC6dbF1",
        "outputId": "323570eb-1505-4088-fdab-454925ac299a"
      },
      "execution_count": 15,
      "outputs": [
        {
          "output_type": "stream",
          "name": "stdout",
          "text": [
            " Это успех , это успех \n"
          ]
        }
      ]
    },
    {
      "cell_type": "code",
      "source": [
        "print(translate(transformer, 'Where is a bathroom'))"
      ],
      "metadata": {
        "colab": {
          "base_uri": "https://localhost:8080/"
        },
        "id": "yf1jjIaLduAc",
        "outputId": "b7addeea-7db8-4349-e4ca-ca6f9108baee"
      },
      "execution_count": 16,
      "outputs": [
        {
          "output_type": "stream",
          "name": "stdout",
          "text": [
            " Где есть ванная комната \n"
          ]
        }
      ]
    },
    {
      "cell_type": "code",
      "source": [
        "print(translate(transformer, 'Sad teddy bear'))"
      ],
      "metadata": {
        "colab": {
          "base_uri": "https://localhost:8080/"
        },
        "id": "mnGHGmT2d6Fw",
        "outputId": "689efa24-7ddc-433b-fd6c-74d82b0b20a8"
      },
      "execution_count": 19,
      "outputs": [
        {
          "output_type": "stream",
          "name": "stdout",
          "text": [
            " ЦИК подал отчет в отношении \n"
          ]
        }
      ]
    },
    {
      "cell_type": "code",
      "source": [
        "print(translate(transformer, 'I hate you'))"
      ],
      "metadata": {
        "colab": {
          "base_uri": "https://localhost:8080/"
        },
        "id": "rHIZUIqieSg6",
        "outputId": "3790b744-066d-4256-b4fd-c985f958f1ac"
      },
      "execution_count": 18,
      "outputs": [
        {
          "output_type": "stream",
          "name": "stdout",
          "text": [
            " Я не люблю вас \n"
          ]
        }
      ]
    },
    {
      "cell_type": "code",
      "source": [
        "print(translate(transformer, 'How can I pay for this?'))"
      ],
      "metadata": {
        "colab": {
          "base_uri": "https://localhost:8080/"
        },
        "id": "Lgt8USP_eh_z",
        "outputId": "cb890dce-2fec-4d41-b3e7-c75ec632d968"
      },
      "execution_count": 23,
      "outputs": [
        {
          "output_type": "stream",
          "name": "stdout",
          "text": [
            " Как я могу платить за это ? \n"
          ]
        }
      ]
    },
    {
      "cell_type": "code",
      "source": [
        "print(translate(transformer, 'Do you want to play a game with me?'))"
      ],
      "metadata": {
        "colab": {
          "base_uri": "https://localhost:8080/"
        },
        "id": "nJONJxk1e2fD",
        "outputId": "b384b789-74c2-4504-fc0c-b054b9a7fdbc"
      },
      "execution_count": 25,
      "outputs": [
        {
          "output_type": "stream",
          "name": "stdout",
          "text": [
            " Вы хотите играть в игре с меня ? \n"
          ]
        }
      ]
    },
    {
      "cell_type": "code",
      "source": [
        "print(translate(transformer, 'How can you really?'))"
      ],
      "metadata": {
        "colab": {
          "base_uri": "https://localhost:8080/"
        },
        "id": "v5tePgXnfVSa",
        "outputId": "8fed7601-b37c-4560-e2e3-729c5ecf9bf4"
      },
      "execution_count": 26,
      "outputs": [
        {
          "output_type": "stream",
          "name": "stdout",
          "text": [
            " Как вы можете действительно ? \n"
          ]
        }
      ]
    },
    {
      "cell_type": "code",
      "source": [
        "print(translate(transformer, 'I love Valdimir Putin'))"
      ],
      "metadata": {
        "colab": {
          "base_uri": "https://localhost:8080/"
        },
        "id": "tHoB7mgfgxTq",
        "outputId": "dc4ee56b-b365-4f72-d02f-991888bac96d"
      },
      "execution_count": 38,
      "outputs": [
        {
          "output_type": "stream",
          "name": "stdout",
          "text": [
            " Я люблю СМИ \n"
          ]
        }
      ]
    },
    {
      "cell_type": "code",
      "source": [
        "print(translate(transformer, 'What is the strength in, brother?'))"
      ],
      "metadata": {
        "colab": {
          "base_uri": "https://localhost:8080/"
        },
        "id": "SpHHYthVh56N",
        "outputId": "5321d1a5-da29-448d-97cf-c01c37a3276a"
      },
      "execution_count": 41,
      "outputs": [
        {
          "output_type": "stream",
          "name": "stdout",
          "text": [
            " Что такое сила , брат , с которого нет силы ? \n"
          ]
        }
      ]
    },
    {
      "cell_type": "code",
      "source": [
        "print(translate(transformer, 'As far as I know he didn\\'t take your keys'))"
      ],
      "metadata": {
        "colab": {
          "base_uri": "https://localhost:8080/"
        },
        "id": "_y1b2jcWijXN",
        "outputId": "e99b97cf-8a44-49bb-ecbc-14d85456d266"
      },
      "execution_count": 44,
      "outputs": [
        {
          "output_type": "stream",
          "name": "stdout",
          "text": [
            " Как я не знаю , он не получил свою партия \n"
          ]
        }
      ]
    },
    {
      "cell_type": "markdown",
      "source": [
        "Kind of working !!!"
      ],
      "metadata": {
        "id": "uFpoYB57iT_2"
      }
    },
    {
      "cell_type": "markdown",
      "metadata": {
        "id": "7u4fzKFAfaC7"
      },
      "source": [
        "References\n",
        "----------\n",
        "\n",
        "1. Attention is all you need paper.\n",
        "   https://papers.nips.cc/paper/2017/file/3f5ee243547dee91fbd053c1c4a845aa-Paper.pdf\n",
        "2. The annotated transformer. https://nlp.seas.harvard.edu/2018/04/03/attention.html#positional-encoding\n",
        "\n"
      ]
    }
  ],
  "metadata": {
    "kernelspec": {
      "display_name": "Python 3",
      "language": "python",
      "name": "python3"
    },
    "language_info": {
      "codemirror_mode": {
        "name": "ipython",
        "version": 3
      },
      "file_extension": ".py",
      "mimetype": "text/x-python",
      "name": "python",
      "nbconvert_exporter": "python",
      "pygments_lexer": "ipython3",
      "version": "3.6.13"
    },
    "colab": {
      "name": "translation_transformer.ipynb",
      "provenance": [],
      "collapsed_sections": [
        "CLaeRh89Jt5w",
        "3Em0Fn6bJgrY"
      ],
      "include_colab_link": true
    },
    "accelerator": "GPU"
  },
  "nbformat": 4,
  "nbformat_minor": 0
}